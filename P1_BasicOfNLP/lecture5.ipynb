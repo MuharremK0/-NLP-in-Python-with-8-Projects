{
 "cells": [
  {
   "cell_type": "code",
   "execution_count": 1,
   "id": "initial_id",
   "metadata": {
    "collapsed": true,
    "ExecuteTime": {
     "end_time": "2024-09-09T16:40:05.329370300Z",
     "start_time": "2024-09-09T16:40:05.315355700Z"
    }
   },
   "outputs": [],
   "source": [
    "# Pharase Matching"
   ]
  },
  {
   "cell_type": "code",
   "execution_count": 2,
   "outputs": [],
   "source": [
    "import spacy\n",
    "nlp = spacy.load('en_core_web_sm')"
   ],
   "metadata": {
    "collapsed": false,
    "ExecuteTime": {
     "end_time": "2024-09-09T16:40:30.837660500Z",
     "start_time": "2024-09-09T16:40:28.708867200Z"
    }
   },
   "id": "b7f275089d7c77d1"
  },
  {
   "cell_type": "code",
   "execution_count": 3,
   "outputs": [],
   "source": [
    "from spacy.matcher import PhraseMatcher\n",
    "matcher = PhraseMatcher(nlp.vocab)"
   ],
   "metadata": {
    "collapsed": false,
    "ExecuteTime": {
     "end_time": "2024-09-09T16:40:51.202884800Z",
     "start_time": "2024-09-09T16:40:51.190914900Z"
    }
   },
   "id": "702bea5ed3017ade"
  },
  {
   "cell_type": "code",
   "execution_count": 4,
   "outputs": [],
   "source": [
    "phrase_list = [\"Barack Obama\",\"Angela Merkel\",\"Washington, D.C.\"]"
   ],
   "metadata": {
    "collapsed": false,
    "ExecuteTime": {
     "end_time": "2024-09-09T16:41:25.125962400Z",
     "start_time": "2024-09-09T16:41:25.080092100Z"
    }
   },
   "id": "9327a52f2d7b8dc7"
  },
  {
   "cell_type": "code",
   "execution_count": 5,
   "outputs": [],
   "source": [
    "pharase_patterns = [nlp(text) for text in phrase_list] \n",
    "# to do that we are using list comprehension"
   ],
   "metadata": {
    "collapsed": false,
    "ExecuteTime": {
     "end_time": "2024-09-09T16:42:42.159132200Z",
     "start_time": "2024-09-09T16:42:42.075956500Z"
    }
   },
   "id": "dabb28ef88562136"
  },
  {
   "cell_type": "code",
   "execution_count": 6,
   "outputs": [
    {
     "data": {
      "text/plain": "[Barack Obama, Angela Merkel, Washington, D.C.]"
     },
     "execution_count": 6,
     "metadata": {},
     "output_type": "execute_result"
    }
   ],
   "source": [
    "pharase_patterns"
   ],
   "metadata": {
    "collapsed": false,
    "ExecuteTime": {
     "end_time": "2024-09-09T16:42:48.325744400Z",
     "start_time": "2024-09-09T16:42:48.242416300Z"
    }
   },
   "id": "25c82168d4cfa780"
  },
  {
   "cell_type": "code",
   "execution_count": 7,
   "outputs": [
    {
     "data": {
      "text/plain": "spacy.tokens.doc.Doc"
     },
     "execution_count": 7,
     "metadata": {},
     "output_type": "execute_result"
    }
   ],
   "source": [
    "type(pharase_patterns[0])"
   ],
   "metadata": {
    "collapsed": false,
    "ExecuteTime": {
     "end_time": "2024-09-09T16:43:53.198955900Z",
     "start_time": "2024-09-09T16:43:53.059807100Z"
    }
   },
   "id": "50145eb9c7563cb9"
  },
  {
   "cell_type": "code",
   "execution_count": 9,
   "outputs": [],
   "source": [
    "matcher.add(\"TerminologyList\",pharase_patterns)"
   ],
   "metadata": {
    "collapsed": false,
    "ExecuteTime": {
     "end_time": "2024-09-09T16:47:05.406064200Z",
     "start_time": "2024-09-09T16:47:05.360889700Z"
    }
   },
   "id": "5e09cee1d942dcb8"
  },
  {
   "cell_type": "code",
   "execution_count": 10,
   "outputs": [],
   "source": [
    "doc_3 = nlp(\"German Chancellor Angela Merkel and US President Barack Obama \"\n",
    "            \"converse in the Oval Office inside the White House in Washington, D.C.\")"
   ],
   "metadata": {
    "collapsed": false,
    "ExecuteTime": {
     "end_time": "2024-09-09T19:44:22.732443500Z",
     "start_time": "2024-09-09T19:44:22.500842200Z"
    }
   },
   "id": "18c4549ba7bf979f"
  },
  {
   "cell_type": "code",
   "execution_count": 11,
   "outputs": [
    {
     "name": "stdout",
     "output_type": "stream",
     "text": [
      "[(3766102292120407359, 2, 4), (3766102292120407359, 7, 9), (3766102292120407359, 19, 22)]\n"
     ]
    }
   ],
   "source": [
    "find_matches = matcher(doc_3)\n",
    "print(find_matches)"
   ],
   "metadata": {
    "collapsed": false,
    "ExecuteTime": {
     "end_time": "2024-09-09T19:44:40.128505700Z",
     "start_time": "2024-09-09T19:44:40.102575200Z"
    }
   },
   "id": "d70b95a19e3527c4"
  },
  {
   "cell_type": "code",
   "execution_count": 12,
   "outputs": [
    {
     "name": "stdout",
     "output_type": "stream",
     "text": [
      "3766102292120407359 TerminologyList 2 4 Angela Merkel\n",
      "3766102292120407359 TerminologyList 7 9 Barack Obama\n",
      "3766102292120407359 TerminologyList 19 22 Washington, D.C.\n"
     ]
    }
   ],
   "source": [
    "# define a function to find the matches\n",
    "for match_id,start,end in find_matches:\n",
    "    string_id = nlp.vocab.strings[match_id]\n",
    "    span = doc_3[start:end]\n",
    "    print(match_id,string_id,start,end,span.text)"
   ],
   "metadata": {
    "collapsed": false,
    "ExecuteTime": {
     "end_time": "2024-09-09T19:46:07.967286500Z",
     "start_time": "2024-09-09T19:46:07.909420500Z"
    }
   },
   "id": "eeb08cdfe4417be5"
  },
  {
   "cell_type": "code",
   "execution_count": null,
   "outputs": [],
   "source": [],
   "metadata": {
    "collapsed": false
   },
   "id": "cf5e551d10105cb7"
  }
 ],
 "metadata": {
  "kernelspec": {
   "display_name": "Python 3",
   "language": "python",
   "name": "python3"
  },
  "language_info": {
   "codemirror_mode": {
    "name": "ipython",
    "version": 2
   },
   "file_extension": ".py",
   "mimetype": "text/x-python",
   "name": "python",
   "nbconvert_exporter": "python",
   "pygments_lexer": "ipython2",
   "version": "2.7.6"
  }
 },
 "nbformat": 4,
 "nbformat_minor": 5
}
