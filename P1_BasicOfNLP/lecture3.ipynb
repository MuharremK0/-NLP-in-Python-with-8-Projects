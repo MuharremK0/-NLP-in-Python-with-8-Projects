{
 "cells": [
  {
   "cell_type": "code",
   "execution_count": 1,
   "id": "initial_id",
   "metadata": {
    "collapsed": true,
    "ExecuteTime": {
     "end_time": "2024-09-02T20:45:51.392014600Z",
     "start_time": "2024-09-02T20:45:49.034629100Z"
    }
   },
   "outputs": [],
   "source": [
    "import spacy\n",
    "nlp = spacy.load('en_core_web_sm')"
   ]
  },
  {
   "cell_type": "code",
   "execution_count": 2,
   "outputs": [
    {
     "name": "stdout",
     "output_type": "stream",
     "text": [
      "{'onto', 'less', 'more', 'nobody', 'once', 'whose', 'has', 'beside', '‘ll', 'forty', 'put', 'made', 'she', 'also', 'himself', 'him', 'still', 'is', 'neither', 'that', 'give', 'empty', 'amongst', 'make', 'again', 'does', \"'ll\", '’d', 'whenever', 'to', 'nowhere', 'eleven', 'further', 'may', 'formerly', 'four', 'his', 'however', 'seemed', '’ve', 'up', 'itself', 'would', 'our', 'someone', 'therein', 'it', 'and', 'via', 'part', 'the', 'back', 'another', 'in', 'mostly', 'anywhere', 'five', 'ca', 'should', 'own', 'am', 'ever', 'last', 'such', 'whither', 'see', 'themselves', 'below', 'whereupon', 'elsewhere', 'under', 'whereby', 'moreover', 'two', 'between', 'thru', 'thence', 'except', 'were', 'indeed', 'i', 'around', 'do', 'being', 'rather', 'so', 'namely', 'who', 'somewhere', 'using', 'have', 'anyone', 'take', 'thereby', 'these', 'beforehand', 'had', 'seem', 'amount', 'beyond', 'alone', 'twenty', 'just', 'can', 'yourself', 'where', 'me', 'a', 'whole', 'across', 'from', 'move', 'you', 'by', 'over', 'must', 'same', 'thus', 'but', 'above', 'third', 'many', 'top', 'for', 'several', 'yours', '‘s', 'he', 'why', 'with', 'get', 'only', 're', 'them', 'full', 'was', 'everyone', 'are', 'wherein', 'upon', 'whom', 'could', 'become', 'or', 'please', \"'ve\", 'until', 'when', '’re', 'seeming', \"n't\", 'some', 'us', 'since', \"'d\", 'even', \"'re\", 'whether', 'one', 'serious', 'out', 'first', 'if', \"'s\", 'about', 'whoever', 'together', 'wherever', 'they', 'all', 'somehow', 'front', 'sixty', 'though', 'your', 'which', 'here', 'unless', 'without', 'toward', 'sometimes', 'much', 'ours', 'noone', 'often', '‘d', 'always', 'this', 'well', 'their', 'we', 'might', 'every', 'everywhere', 'whereas', 'everything', 'yet', 'ten', 'than', 'side', 'therefore', 'fifty', 'doing', 'nevertheless', 'used', 'be', '‘ve', 'will', 'behind', 'because', 'down', 'hereupon', 'its', 'whereafter', 'due', 'not', 'became', 'enough', 'most', 'myself', '‘re', \"'m\", 'other', 'something', 'show', 'thereupon', '’s', 'anyhow', 'how', 'then', 'hereby', 'bottom', 'per', 'next', 'done', 'hence', 'seems', 'thereafter', 'towards', 'within', '’ll', 'along', 'afterwards', 'no', 'n’t', 'mine', 'nor', 'becomes', 'against', 'latter', 'an', 'as', 'herein', 'say', 'eight', 'n‘t', 'each', 'hers', 'either', 'various', 'besides', 'none', 'herself', 'of', 'becoming', 'ourselves', 'quite', 'through', 'now', 'at', 'regarding', 'perhaps', 'few', 'name', 'anything', 'both', 'least', 'already', 'anyway', 'really', 'her', 'throughout', 'very', 'whence', 'twelve', 'yourselves', 'almost', 'on', 'former', 'after', 'those', 'call', 'hundred', 'my', 'go', 'cannot', 'three', 'what', 'although', 'six', 'before', '‘m', 'hereafter', 'others', 'any', 'during', 'while', 'otherwise', 'nothing', 'keep', 'latterly', 'never', 'off', 'fifteen', '’m', 'there', 'sometime', 'into', 'else', 'meanwhile', 'been', 'too', 'among', 'did', 'whatever', 'nine'}\n"
     ]
    }
   ],
   "source": [
    "print(nlp.Defaults.stop_words)"
   ],
   "metadata": {
    "collapsed": false,
    "ExecuteTime": {
     "end_time": "2024-09-02T20:46:17.437561600Z",
     "start_time": "2024-09-02T20:46:17.367514700Z"
    }
   },
   "id": "d3ef5078d7e8463c"
  },
  {
   "cell_type": "code",
   "execution_count": 3,
   "outputs": [
    {
     "data": {
      "text/plain": "326"
     },
     "execution_count": 3,
     "metadata": {},
     "output_type": "execute_result"
    }
   ],
   "source": [
    "len(nlp.Defaults.stop_words)"
   ],
   "metadata": {
    "collapsed": false,
    "ExecuteTime": {
     "end_time": "2024-09-02T20:46:40.350118100Z",
     "start_time": "2024-09-02T20:46:40.269820100Z"
    }
   },
   "id": "d03f458f51c2344a"
  },
  {
   "cell_type": "code",
   "execution_count": 4,
   "outputs": [
    {
     "data": {
      "text/plain": "True"
     },
     "execution_count": 4,
     "metadata": {},
     "output_type": "execute_result"
    }
   ],
   "source": [
    "nlp.vocab['always'].is_stop"
   ],
   "metadata": {
    "collapsed": false,
    "ExecuteTime": {
     "end_time": "2024-09-02T20:47:06.764293500Z",
     "start_time": "2024-09-02T20:47:06.688349200Z"
    }
   },
   "id": "e9511dd957108211"
  },
  {
   "cell_type": "code",
   "execution_count": 5,
   "outputs": [
    {
     "data": {
      "text/plain": "False"
     },
     "execution_count": 5,
     "metadata": {},
     "output_type": "execute_result"
    }
   ],
   "source": [
    "nlp.vocab['finance'].is_stop"
   ],
   "metadata": {
    "collapsed": false,
    "ExecuteTime": {
     "end_time": "2024-09-02T20:47:18.676387500Z",
     "start_time": "2024-09-02T20:47:18.568689200Z"
    }
   },
   "id": "680f14d490da5d5b"
  },
  {
   "cell_type": "code",
   "execution_count": 6,
   "outputs": [
    {
     "data": {
      "text/plain": "False"
     },
     "execution_count": 6,
     "metadata": {},
     "output_type": "execute_result"
    }
   ],
   "source": [
    "nlp.vocab['asdf'].is_stop"
   ],
   "metadata": {
    "collapsed": false,
    "ExecuteTime": {
     "end_time": "2024-09-02T20:48:20.241112900Z",
     "start_time": "2024-09-02T20:48:20.144848800Z"
    }
   },
   "id": "a40aa002116e2cfc"
  },
  {
   "cell_type": "code",
   "execution_count": 7,
   "outputs": [],
   "source": [
    "nlp.Defaults.stop_words.add('asdf')"
   ],
   "metadata": {
    "collapsed": false,
    "ExecuteTime": {
     "end_time": "2024-09-02T20:48:32.181079900Z",
     "start_time": "2024-09-02T20:48:32.126875800Z"
    }
   },
   "id": "10827ec3816af5be"
  },
  {
   "cell_type": "code",
   "execution_count": 8,
   "outputs": [],
   "source": [
    "nlp.vocab['asdf'].is_stop = True"
   ],
   "metadata": {
    "collapsed": false,
    "ExecuteTime": {
     "end_time": "2024-09-02T20:48:53.390489100Z",
     "start_time": "2024-09-02T20:48:53.348914600Z"
    }
   },
   "id": "788a1ae829ec5a8f"
  },
  {
   "cell_type": "code",
   "execution_count": 9,
   "outputs": [
    {
     "data": {
      "text/plain": "True"
     },
     "execution_count": 9,
     "metadata": {},
     "output_type": "execute_result"
    }
   ],
   "source": [
    "nlp.vocab['asdf'].is_stop"
   ],
   "metadata": {
    "collapsed": false,
    "ExecuteTime": {
     "end_time": "2024-09-02T20:49:02.287816500Z",
     "start_time": "2024-09-02T20:49:02.179172600Z"
    }
   },
   "id": "f4ab87a41fa2c188"
  },
  {
   "cell_type": "code",
   "execution_count": 10,
   "outputs": [
    {
     "data": {
      "text/plain": "327"
     },
     "execution_count": 10,
     "metadata": {},
     "output_type": "execute_result"
    }
   ],
   "source": [
    "len(nlp.Defaults.stop_words)"
   ],
   "metadata": {
    "collapsed": false,
    "ExecuteTime": {
     "end_time": "2024-09-02T20:49:14.278822900Z",
     "start_time": "2024-09-02T20:49:14.174083200Z"
    }
   },
   "id": "757ddaabfeaef92d"
  },
  {
   "cell_type": "code",
   "execution_count": 11,
   "outputs": [
    {
     "data": {
      "text/plain": "True"
     },
     "execution_count": 11,
     "metadata": {},
     "output_type": "execute_result"
    }
   ],
   "source": [
    "nlp.vocab['no'].is_stop"
   ],
   "metadata": {
    "collapsed": false,
    "ExecuteTime": {
     "end_time": "2024-09-02T20:49:39.519833700Z",
     "start_time": "2024-09-02T20:49:39.497304400Z"
    }
   },
   "id": "3344052266a8a38a"
  },
  {
   "cell_type": "code",
   "execution_count": 12,
   "outputs": [],
   "source": [
    "nlp.vocab['no'].is_stop = False"
   ],
   "metadata": {
    "collapsed": false,
    "ExecuteTime": {
     "end_time": "2024-09-02T20:49:48.106097800Z",
     "start_time": "2024-09-02T20:49:48.004550800Z"
    }
   },
   "id": "ef3fa433613bfcb1"
  },
  {
   "cell_type": "code",
   "execution_count": 14,
   "outputs": [
    {
     "name": "stdout",
     "output_type": "stream",
     "text": [
      "{'onto', 'less', 'more', 'nobody', 'once', 'whose', 'has', 'beside', '‘ll', 'forty', 'put', 'made', 'she', 'also', 'himself', 'him', 'still', 'is', 'neither', 'that', 'give', 'empty', 'amongst', 'make', 'again', 'does', \"'ll\", '’d', 'whenever', 'to', 'nowhere', 'eleven', 'further', 'may', 'formerly', 'four', 'his', 'however', 'seemed', '’ve', 'up', 'itself', 'would', 'our', 'someone', 'asdf', 'therein', 'it', 'and', 'via', 'part', 'the', 'back', 'another', 'in', 'mostly', 'anywhere', 'five', 'ca', 'should', 'own', 'am', 'ever', 'last', 'such', 'whither', 'see', 'themselves', 'below', 'whereupon', 'elsewhere', 'under', 'whereby', 'moreover', 'two', 'between', 'thru', 'thence', 'except', 'were', 'indeed', 'i', 'around', 'do', 'being', 'rather', 'so', 'namely', 'who', 'somewhere', 'using', 'have', 'anyone', 'take', 'thereby', 'these', 'beforehand', 'had', 'seem', 'amount', 'beyond', 'alone', 'twenty', 'just', 'can', 'yourself', 'where', 'me', 'a', 'whole', 'across', 'from', 'move', 'you', 'by', 'over', 'must', 'same', 'thus', 'but', 'above', 'third', 'many', 'top', 'for', 'several', 'yours', '‘s', 'he', 'why', 'with', 'get', 'only', 're', 'them', 'full', 'was', 'everyone', 'are', 'wherein', 'upon', 'whom', 'could', 'become', 'or', 'please', \"'ve\", 'until', 'when', '’re', 'seeming', \"n't\", 'some', 'us', 'since', \"'d\", 'even', \"'re\", 'whether', 'one', 'serious', 'out', 'first', 'if', \"'s\", 'about', 'whoever', 'together', 'wherever', 'they', 'all', 'somehow', 'front', 'sixty', 'though', 'your', 'which', 'here', 'unless', 'without', 'toward', 'sometimes', 'much', 'ours', 'noone', 'often', '‘d', 'always', 'this', 'well', 'their', 'we', 'might', 'every', 'everywhere', 'whereas', 'everything', 'yet', 'ten', 'than', 'side', 'therefore', 'fifty', 'doing', 'nevertheless', 'used', 'be', '‘ve', 'will', 'behind', 'because', 'down', 'hereupon', 'its', 'whereafter', 'due', 'not', 'became', 'enough', 'most', 'myself', '‘re', \"'m\", 'other', 'something', 'show', 'thereupon', '’s', 'anyhow', 'how', 'then', 'hereby', 'bottom', 'per', 'next', 'done', 'hence', 'seems', 'thereafter', 'towards', 'within', '’ll', 'along', 'afterwards', 'no', 'n’t', 'mine', 'nor', 'becomes', 'against', 'latter', 'an', 'as', 'herein', 'say', 'eight', 'n‘t', 'each', 'hers', 'either', 'various', 'besides', 'none', 'herself', 'of', 'becoming', 'ourselves', 'quite', 'through', 'now', 'at', 'regarding', 'perhaps', 'few', 'name', 'anything', 'both', 'least', 'already', 'anyway', 'really', 'her', 'throughout', 'very', 'whence', 'twelve', 'yourselves', 'almost', 'on', 'former', 'after', 'those', 'call', 'hundred', 'my', 'go', 'cannot', 'three', 'what', 'although', 'six', 'before', '‘m', 'hereafter', 'others', 'any', 'during', 'while', 'otherwise', 'nothing', 'keep', 'latterly', 'never', 'off', 'fifteen', '’m', 'there', 'sometime', 'into', 'else', 'meanwhile', 'been', 'too', 'among', 'did', 'whatever', 'nine'}\n"
     ]
    }
   ],
   "source": [
    "print(nlp.Defaults.stop_words)"
   ],
   "metadata": {
    "collapsed": false,
    "ExecuteTime": {
     "end_time": "2024-09-02T20:50:19.115451900Z",
     "start_time": "2024-09-02T20:50:19.099035900Z"
    }
   },
   "id": "1dd473f7c763783e"
  },
  {
   "cell_type": "code",
   "execution_count": 15,
   "outputs": [],
   "source": [
    "nlp.Defaults.stop_words.remove('no')"
   ],
   "metadata": {
    "collapsed": false,
    "ExecuteTime": {
     "end_time": "2024-09-02T20:50:38.268494100Z",
     "start_time": "2024-09-02T20:50:38.155369600Z"
    }
   },
   "id": "c194cc771dd52992"
  },
  {
   "cell_type": "code",
   "execution_count": 16,
   "outputs": [],
   "source": [
    "nlp.vocab['no'].is_stop = False"
   ],
   "metadata": {
    "collapsed": false,
    "ExecuteTime": {
     "end_time": "2024-09-02T20:50:52.498709100Z",
     "start_time": "2024-09-02T20:50:52.472911200Z"
    }
   },
   "id": "964806e0cec81fab"
  },
  {
   "cell_type": "code",
   "execution_count": 17,
   "outputs": [
    {
     "data": {
      "text/plain": "326"
     },
     "execution_count": 17,
     "metadata": {},
     "output_type": "execute_result"
    }
   ],
   "source": [
    "len(nlp.Defaults.stop_words)"
   ],
   "metadata": {
    "collapsed": false,
    "ExecuteTime": {
     "end_time": "2024-09-02T20:51:05.002519200Z",
     "start_time": "2024-09-02T20:51:04.978252600Z"
    }
   },
   "id": "93b37a11d0917ff2"
  },
  {
   "cell_type": "code",
   "execution_count": null,
   "outputs": [],
   "source": [],
   "metadata": {
    "collapsed": false
   },
   "id": "e3e844b55f9f8d4c"
  }
 ],
 "metadata": {
  "kernelspec": {
   "display_name": "Python 3",
   "language": "python",
   "name": "python3"
  },
  "language_info": {
   "codemirror_mode": {
    "name": "ipython",
    "version": 2
   },
   "file_extension": ".py",
   "mimetype": "text/x-python",
   "name": "python",
   "nbconvert_exporter": "python",
   "pygments_lexer": "ipython2",
   "version": "2.7.6"
  }
 },
 "nbformat": 4,
 "nbformat_minor": 5
}
