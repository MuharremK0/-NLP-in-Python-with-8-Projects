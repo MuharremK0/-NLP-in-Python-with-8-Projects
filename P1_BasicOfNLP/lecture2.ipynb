{
 "cells": [
  {
   "cell_type": "code",
   "execution_count": 1,
   "id": "initial_id",
   "metadata": {
    "collapsed": true,
    "ExecuteTime": {
     "end_time": "2024-09-02T20:32:05.896383400Z",
     "start_time": "2024-09-02T20:32:05.884615600Z"
    }
   },
   "outputs": [],
   "source": [
    "# Stemming and Lemmatization"
   ]
  },
  {
   "cell_type": "code",
   "execution_count": 2,
   "outputs": [],
   "source": [
    "words = ['run','runner','running','ran','runs','easily','fairly']"
   ],
   "metadata": {
    "collapsed": false,
    "ExecuteTime": {
     "end_time": "2024-09-02T20:33:02.033254800Z",
     "start_time": "2024-09-02T20:33:01.988820300Z"
    }
   },
   "id": "f263313be753de38"
  },
  {
   "cell_type": "code",
   "execution_count": 3,
   "outputs": [],
   "source": [
    "import nltk"
   ],
   "metadata": {
    "collapsed": false,
    "ExecuteTime": {
     "end_time": "2024-09-02T20:33:12.111323800Z",
     "start_time": "2024-09-02T20:33:09.491481900Z"
    }
   },
   "id": "20b0aeb87e78b3b8"
  },
  {
   "cell_type": "code",
   "execution_count": 4,
   "outputs": [],
   "source": [
    "from nltk.stem.porter import PorterStemmer\n",
    "from nltk.stem.snowball import SnowballStemmer"
   ],
   "metadata": {
    "collapsed": false,
    "ExecuteTime": {
     "end_time": "2024-09-02T20:33:33.876313200Z",
     "start_time": "2024-09-02T20:33:33.806802500Z"
    }
   },
   "id": "7dcede036636cdde"
  },
  {
   "cell_type": "code",
   "execution_count": 5,
   "outputs": [],
   "source": [
    "p_stemmer=PorterStemmer()\n",
    "s_stemmer=SnowballStemmer(language='english')"
   ],
   "metadata": {
    "collapsed": false,
    "ExecuteTime": {
     "end_time": "2024-09-02T20:34:05.651305800Z",
     "start_time": "2024-09-02T20:34:05.622465300Z"
    }
   },
   "id": "f1af669648e1238b"
  },
  {
   "cell_type": "code",
   "execution_count": 6,
   "outputs": [
    {
     "name": "stdout",
     "output_type": "stream",
     "text": [
      "run------run\n",
      "runner------runner\n",
      "running------run\n",
      "ran------ran\n",
      "runs------run\n",
      "easily------easili\n",
      "fairly------fairli\n"
     ]
    }
   ],
   "source": [
    "for word in words:\n",
    "    print(word + '------' + p_stemmer.stem(word))"
   ],
   "metadata": {
    "collapsed": false,
    "ExecuteTime": {
     "end_time": "2024-09-02T20:35:51.179882500Z",
     "start_time": "2024-09-02T20:35:51.151956100Z"
    }
   },
   "id": "2b245b0622dffde8"
  },
  {
   "cell_type": "code",
   "execution_count": 7,
   "outputs": [
    {
     "name": "stdout",
     "output_type": "stream",
     "text": [
      "run------run\n",
      "runner------runner\n",
      "running------run\n",
      "ran------ran\n",
      "runs------run\n",
      "easily------easili\n",
      "fairly------fair\n"
     ]
    }
   ],
   "source": [
    "for word in words:\n",
    "    print(word + '------' + s_stemmer.stem(word))"
   ],
   "metadata": {
    "collapsed": false,
    "ExecuteTime": {
     "end_time": "2024-09-02T20:36:57.637585100Z",
     "start_time": "2024-09-02T20:36:57.629607900Z"
    }
   },
   "id": "b92c035854106889"
  },
  {
   "cell_type": "code",
   "execution_count": 8,
   "outputs": [],
   "source": [
    "# Lemmatization part ->"
   ],
   "metadata": {
    "collapsed": false,
    "ExecuteTime": {
     "end_time": "2024-09-02T20:38:18.422197600Z",
     "start_time": "2024-09-02T20:38:18.380590500Z"
    }
   },
   "id": "a14eb91cffa9aa7b"
  },
  {
   "cell_type": "code",
   "execution_count": 9,
   "outputs": [],
   "source": [
    "import spacy\n",
    "nlp = spacy.load('en_core_web_sm')"
   ],
   "metadata": {
    "collapsed": false,
    "ExecuteTime": {
     "end_time": "2024-09-02T20:38:36.995758100Z",
     "start_time": "2024-09-02T20:38:34.954949Z"
    }
   },
   "id": "332b75468077dfaf"
  },
  {
   "cell_type": "code",
   "execution_count": 10,
   "outputs": [],
   "source": [
    "doc1 = nlp(\"The striped bats are hanging on their feet for best\")"
   ],
   "metadata": {
    "collapsed": false,
    "ExecuteTime": {
     "end_time": "2024-09-02T20:39:25.992288700Z",
     "start_time": "2024-09-02T20:39:25.947795200Z"
    }
   },
   "id": "ba042329778b84e3"
  },
  {
   "cell_type": "code",
   "execution_count": 11,
   "outputs": [
    {
     "name": "stdout",
     "output_type": "stream",
     "text": [
      "The \t the\n",
      "striped \t stripe\n",
      "bats \t bat\n",
      "are \t be\n",
      "hanging \t hang\n",
      "on \t on\n",
      "their \t their\n",
      "feet \t foot\n",
      "for \t for\n",
      "best \t good\n"
     ]
    }
   ],
   "source": [
    "for token in doc1:\n",
    "    print(token.text,'\\t',token.lemma_)"
   ],
   "metadata": {
    "collapsed": false,
    "ExecuteTime": {
     "end_time": "2024-09-02T20:42:03.001647200Z",
     "start_time": "2024-09-02T20:42:02.974508500Z"
    }
   },
   "id": "7c772c8feb70df5c"
  },
  {
   "cell_type": "code",
   "execution_count": 12,
   "outputs": [
    {
     "name": "stdout",
     "output_type": "stream",
     "text": [
      "The------the\n",
      "striped------stripe\n",
      "bats------bat\n",
      "are------are\n",
      "hanging------hang\n",
      "on------on\n",
      "their------their\n",
      "feet------feet\n",
      "for------for\n",
      "best------best\n"
     ]
    }
   ],
   "source": [
    "s1 = \"The striped bats are hanging on their feet for best\"\n",
    "for word in s1.split():\n",
    "    print(word + '------' + p_stemmer.stem(word))"
   ],
   "metadata": {
    "collapsed": false,
    "ExecuteTime": {
     "end_time": "2024-09-02T20:43:38.322615200Z",
     "start_time": "2024-09-02T20:43:38.260246Z"
    }
   },
   "id": "f2de44b961b744f6"
  },
  {
   "cell_type": "code",
   "execution_count": null,
   "outputs": [],
   "source": [],
   "metadata": {
    "collapsed": false
   },
   "id": "a51763f027b8f02f"
  }
 ],
 "metadata": {
  "kernelspec": {
   "display_name": "Python 3",
   "language": "python",
   "name": "python3"
  },
  "language_info": {
   "codemirror_mode": {
    "name": "ipython",
    "version": 2
   },
   "file_extension": ".py",
   "mimetype": "text/x-python",
   "name": "python",
   "nbconvert_exporter": "python",
   "pygments_lexer": "ipython2",
   "version": "2.7.6"
  }
 },
 "nbformat": 4,
 "nbformat_minor": 5
}
