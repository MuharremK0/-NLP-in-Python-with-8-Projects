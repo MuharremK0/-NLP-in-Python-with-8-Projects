{
 "cells": [
  {
   "cell_type": "code",
   "execution_count": 15,
   "id": "initial_id",
   "metadata": {
    "collapsed": true,
    "ExecuteTime": {
     "end_time": "2024-09-09T20:10:16.143843400Z",
     "start_time": "2024-09-09T20:10:16.089983700Z"
    }
   },
   "outputs": [],
   "source": [
    "s1 = \"Apple is looking at buying U.K. startup for $1 billion\"\n",
    "s2 = \"San Francisco considers banning sidewalk delivery robots\"\n",
    "s3 = \"facebook is hiring a new vice president in U.S.\""
   ]
  },
  {
   "cell_type": "code",
   "execution_count": 16,
   "outputs": [],
   "source": [
    "import spacy\n",
    "nlp = spacy.load('en_core_web_sm')"
   ],
   "metadata": {
    "collapsed": false,
    "ExecuteTime": {
     "end_time": "2024-09-09T20:10:16.979299400Z",
     "start_time": "2024-09-09T20:10:16.100956300Z"
    }
   },
   "id": "f7ff52b72f54c7a2"
  },
  {
   "cell_type": "code",
   "execution_count": 17,
   "outputs": [
    {
     "name": "stdout",
     "output_type": "stream",
     "text": [
      "Apple ORG Companies, agencies, institutions, etc.\n",
      "U.K. GPE Countries, cities, states\n",
      "$1 billion MONEY Monetary values, including unit\n"
     ]
    }
   ],
   "source": [
    "doc1 = nlp(s1)\n",
    "for ent in doc1.ents:\n",
    "    print(ent.text,ent.label_,str(spacy.explain(ent.label_)))"
   ],
   "metadata": {
    "collapsed": false,
    "ExecuteTime": {
     "end_time": "2024-09-09T20:10:17.052108700Z",
     "start_time": "2024-09-09T20:10:16.978302Z"
    }
   },
   "id": "85d0759869d92268"
  },
  {
   "cell_type": "code",
   "execution_count": 18,
   "outputs": [
    {
     "name": "stdout",
     "output_type": "stream",
     "text": [
      "San Francisco GPE Countries, cities, states\n"
     ]
    }
   ],
   "source": [
    "doc2 = nlp(s2)\n",
    "for ent in doc2.ents:\n",
    "    print(ent.text,ent.label_,str(spacy.explain(ent.label_)))"
   ],
   "metadata": {
    "collapsed": false,
    "ExecuteTime": {
     "end_time": "2024-09-09T20:10:17.064605Z",
     "start_time": "2024-09-09T20:10:17.013209300Z"
    }
   },
   "id": "57e46cee5b45459f"
  },
  {
   "cell_type": "code",
   "execution_count": 19,
   "outputs": [
    {
     "name": "stdout",
     "output_type": "stream",
     "text": [
      "U.S. GPE Countries, cities, states\n"
     ]
    }
   ],
   "source": [
    "doc3 = nlp(s3)\n",
    "for ent in doc3.ents:\n",
    "    print(ent.text,ent.label_,str(spacy.explain(ent.label_)))"
   ],
   "metadata": {
    "collapsed": false,
    "ExecuteTime": {
     "end_time": "2024-09-09T20:10:17.078587400Z",
     "start_time": "2024-09-09T20:10:17.045128200Z"
    }
   },
   "id": "dc2a43b32f38d312"
  },
  {
   "cell_type": "code",
   "execution_count": 20,
   "outputs": [],
   "source": [
    "# facebook does not include in label, but we can add"
   ],
   "metadata": {
    "collapsed": false,
    "ExecuteTime": {
     "end_time": "2024-09-09T20:10:17.129121100Z",
     "start_time": "2024-09-09T20:10:17.072584600Z"
    }
   },
   "id": "4b2a08f7e3d01ca3"
  },
  {
   "cell_type": "code",
   "execution_count": 21,
   "outputs": [
    {
     "data": {
      "text/plain": "(U.S.,)"
     },
     "execution_count": 21,
     "metadata": {},
     "output_type": "execute_result"
    }
   ],
   "source": [
    "doc3.ents"
   ],
   "metadata": {
    "collapsed": false,
    "ExecuteTime": {
     "end_time": "2024-09-09T20:10:17.131114700Z",
     "start_time": "2024-09-09T20:10:17.090226700Z"
    }
   },
   "id": "1a67221e20817fe5"
  },
  {
   "cell_type": "code",
   "execution_count": 22,
   "outputs": [],
   "source": [
    "ORG = doc3.vocab.strings['ORG']"
   ],
   "metadata": {
    "collapsed": false,
    "ExecuteTime": {
     "end_time": "2024-09-09T20:10:17.132113800Z",
     "start_time": "2024-09-09T20:10:17.104189800Z"
    }
   },
   "id": "e8e6f81139ab1610"
  },
  {
   "cell_type": "code",
   "execution_count": 23,
   "outputs": [],
   "source": [
    "from spacy.tokens import Span\n",
    "new_ent = Span(doc3,0,1,label=ORG)"
   ],
   "metadata": {
    "collapsed": false,
    "ExecuteTime": {
     "end_time": "2024-09-09T20:10:17.152066600Z",
     "start_time": "2024-09-09T20:10:17.119147500Z"
    }
   },
   "id": "63d0b01074196b5a"
  },
  {
   "cell_type": "code",
   "execution_count": 24,
   "outputs": [],
   "source": [
    "doc3.ents = list(doc3.ents) + [new_ent]"
   ],
   "metadata": {
    "collapsed": false,
    "ExecuteTime": {
     "end_time": "2024-09-09T20:10:17.154060500Z",
     "start_time": "2024-09-09T20:10:17.134108400Z"
    }
   },
   "id": "a4df9c9f9841e71c"
  },
  {
   "cell_type": "code",
   "execution_count": 25,
   "outputs": [
    {
     "data": {
      "text/plain": "(facebook, U.S.)"
     },
     "execution_count": 25,
     "metadata": {},
     "output_type": "execute_result"
    }
   ],
   "source": [
    "doc3.ents"
   ],
   "metadata": {
    "collapsed": false,
    "ExecuteTime": {
     "end_time": "2024-09-09T20:10:17.253311700Z",
     "start_time": "2024-09-09T20:10:17.151067800Z"
    }
   },
   "id": "fb0aab5f52465141"
  },
  {
   "cell_type": "code",
   "execution_count": 26,
   "outputs": [
    {
     "name": "stdout",
     "output_type": "stream",
     "text": [
      "facebook ORG Companies, agencies, institutions, etc.\n",
      "U.S. GPE Countries, cities, states\n"
     ]
    }
   ],
   "source": [
    "for ent in doc3.ents:\n",
    "    print(ent.text,ent.label_,str(spacy.explain(ent.label_)))"
   ],
   "metadata": {
    "collapsed": false,
    "ExecuteTime": {
     "end_time": "2024-09-09T20:10:17.274778300Z",
     "start_time": "2024-09-09T20:10:17.167540800Z"
    }
   },
   "id": "16e8562dc26ebd52"
  },
  {
   "cell_type": "code",
   "execution_count": 27,
   "outputs": [],
   "source": [
    "from spacy import displacy"
   ],
   "metadata": {
    "collapsed": false,
    "ExecuteTime": {
     "end_time": "2024-09-09T20:10:43.057558600Z",
     "start_time": "2024-09-09T20:10:43.016200100Z"
    }
   },
   "id": "e45e238bab3ab2e0"
  },
  {
   "cell_type": "code",
   "execution_count": 28,
   "outputs": [
    {
     "data": {
      "text/plain": "<IPython.core.display.HTML object>",
      "text/html": "<span class=\"tex2jax_ignore\"><div class=\"entities\" style=\"line-height: 2.5; direction: ltr\">\n<mark class=\"entity\" style=\"background: #7aecec; padding: 0.45em 0.6em; margin: 0 0.25em; line-height: 1; border-radius: 0.35em;\">\n    Apple\n    <span style=\"font-size: 0.8em; font-weight: bold; line-height: 1; border-radius: 0.35em; vertical-align: middle; margin-left: 0.5rem\">ORG</span>\n</mark>\n is looking at buying \n<mark class=\"entity\" style=\"background: #feca74; padding: 0.45em 0.6em; margin: 0 0.25em; line-height: 1; border-radius: 0.35em;\">\n    U.K.\n    <span style=\"font-size: 0.8em; font-weight: bold; line-height: 1; border-radius: 0.35em; vertical-align: middle; margin-left: 0.5rem\">GPE</span>\n</mark>\n startup for \n<mark class=\"entity\" style=\"background: #e4e7d2; padding: 0.45em 0.6em; margin: 0 0.25em; line-height: 1; border-radius: 0.35em;\">\n    $1 billion\n    <span style=\"font-size: 0.8em; font-weight: bold; line-height: 1; border-radius: 0.35em; vertical-align: middle; margin-left: 0.5rem\">MONEY</span>\n</mark>\n</div></span>"
     },
     "metadata": {},
     "output_type": "display_data"
    }
   ],
   "source": [
    "displacy.render(docs=doc1,style='ent',jupyter=True)"
   ],
   "metadata": {
    "collapsed": false,
    "ExecuteTime": {
     "end_time": "2024-09-09T20:11:22.707263700Z",
     "start_time": "2024-09-09T20:11:22.684128900Z"
    }
   },
   "id": "1de04e598eecdefe"
  },
  {
   "cell_type": "code",
   "execution_count": 29,
   "outputs": [
    {
     "data": {
      "text/plain": "<IPython.core.display.HTML object>",
      "text/html": "<span class=\"tex2jax_ignore\"><div class=\"entities\" style=\"line-height: 2.5; direction: ltr\">\n<mark class=\"entity\" style=\"background: #7aecec; padding: 0.45em 0.6em; margin: 0 0.25em; line-height: 1; border-radius: 0.35em;\">\n    Apple\n    <span style=\"font-size: 0.8em; font-weight: bold; line-height: 1; border-radius: 0.35em; vertical-align: middle; margin-left: 0.5rem\">ORG</span>\n</mark>\n is looking at buying U.K. startup for $1 billion</div></span>"
     },
     "metadata": {},
     "output_type": "display_data"
    }
   ],
   "source": [
    "displacy.render(docs=doc1,style='ent',jupyter=True,options={'ents':['ORG']})"
   ],
   "metadata": {
    "collapsed": false,
    "ExecuteTime": {
     "end_time": "2024-09-09T20:12:09.126511Z",
     "start_time": "2024-09-09T20:12:09.063368300Z"
    }
   },
   "id": "58151f4b8a987bcc"
  },
  {
   "cell_type": "code",
   "execution_count": null,
   "outputs": [],
   "source": [],
   "metadata": {
    "collapsed": false
   },
   "id": "4f24b162446d641e"
  }
 ],
 "metadata": {
  "kernelspec": {
   "display_name": "Python 3",
   "language": "python",
   "name": "python3"
  },
  "language_info": {
   "codemirror_mode": {
    "name": "ipython",
    "version": 2
   },
   "file_extension": ".py",
   "mimetype": "text/x-python",
   "name": "python",
   "nbconvert_exporter": "python",
   "pygments_lexer": "ipython2",
   "version": "2.7.6"
  }
 },
 "nbformat": 4,
 "nbformat_minor": 5
}
