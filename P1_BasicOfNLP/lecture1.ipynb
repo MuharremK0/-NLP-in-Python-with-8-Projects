{
 "cells": [
  {
   "cell_type": "code",
   "execution_count": 1,
   "id": "initial_id",
   "metadata": {
    "collapsed": true,
    "ExecuteTime": {
     "end_time": "2024-09-02T20:12:10.146389200Z",
     "start_time": "2024-09-02T20:12:10.124619Z"
    }
   },
   "outputs": [],
   "source": [
    "s1 = 'Apple is looking at buying U.K. startup for $1 billion !'\n",
    "s2 = 'Hello all, We are here to help you! email support@udemy.com or visit us at http://www.udemy.com!'\n",
    "s3 = '10km cab ride almost costs $20 in NYC'\n",
    "s4 = \"Let's watch a movie together.\""
   ]
  },
  {
   "cell_type": "code",
   "execution_count": 2,
   "outputs": [],
   "source": [
    "import spacy"
   ],
   "metadata": {
    "collapsed": false,
    "ExecuteTime": {
     "end_time": "2024-09-02T20:12:31.070558400Z",
     "start_time": "2024-09-02T20:12:28.683412600Z"
    }
   },
   "id": "a2d9c69adc662f85"
  },
  {
   "cell_type": "code",
   "execution_count": 3,
   "outputs": [],
   "source": [
    "nlp = spacy.load('en_core_web_sm')"
   ],
   "metadata": {
    "collapsed": false,
    "ExecuteTime": {
     "end_time": "2024-09-02T20:16:26.088182500Z",
     "start_time": "2024-09-02T20:16:25.385947400Z"
    }
   },
   "id": "ed4a702565a5eeaa"
  },
  {
   "cell_type": "code",
   "execution_count": 4,
   "outputs": [],
   "source": [
    "nlp_1 = spacy.load('en_core_web_md')"
   ],
   "metadata": {
    "collapsed": false,
    "ExecuteTime": {
     "end_time": "2024-09-02T20:16:52.057508600Z",
     "start_time": "2024-09-02T20:16:50.142918100Z"
    }
   },
   "id": "904e9d6b0ec53e20"
  },
  {
   "cell_type": "code",
   "execution_count": 5,
   "outputs": [],
   "source": [
    "doc1 = nlp(s1)"
   ],
   "metadata": {
    "collapsed": false,
    "ExecuteTime": {
     "end_time": "2024-09-02T20:19:10.533439100Z",
     "start_time": "2024-09-02T20:19:10.413970100Z"
    }
   },
   "id": "f6fdda56197f3074"
  },
  {
   "cell_type": "code",
   "execution_count": 6,
   "outputs": [
    {
     "name": "stdout",
     "output_type": "stream",
     "text": [
      "Apple is looking at buying U.K. startup for $1 billion !\n",
      "Apple\n",
      "is\n",
      "looking\n",
      "at\n",
      "buying\n",
      "U.K.\n",
      "startup\n",
      "for\n",
      "$\n",
      "1\n",
      "billion\n",
      "!\n"
     ]
    }
   ],
   "source": [
    "print(s1)\n",
    "for token in doc1:\n",
    "    print(token)"
   ],
   "metadata": {
    "collapsed": false,
    "ExecuteTime": {
     "end_time": "2024-09-02T20:19:30.758218100Z",
     "start_time": "2024-09-02T20:19:30.555427200Z"
    }
   },
   "id": "978a937827045e01"
  },
  {
   "cell_type": "code",
   "execution_count": 7,
   "outputs": [
    {
     "name": "stdout",
     "output_type": "stream",
     "text": [
      "Hello all, We are here to help you! email support@udemy.com or visit us at http://www.udemy.com!\n",
      "Hello\n",
      "all\n",
      ",\n",
      "We\n",
      "are\n",
      "here\n",
      "to\n",
      "help\n",
      "you\n",
      "!\n",
      "email\n",
      "support@udemy.com\n",
      "or\n",
      "visit\n",
      "us\n",
      "at\n",
      "http://www.udemy.com\n",
      "!\n"
     ]
    }
   ],
   "source": [
    "doc2 = nlp(s2)\n",
    "print(s2)\n",
    "for token in doc2:\n",
    "    print(token)"
   ],
   "metadata": {
    "collapsed": false,
    "ExecuteTime": {
     "end_time": "2024-09-02T20:21:06.796265400Z",
     "start_time": "2024-09-02T20:21:06.700005200Z"
    }
   },
   "id": "5af5ea2da4ee40d3"
  },
  {
   "cell_type": "code",
   "execution_count": 8,
   "outputs": [
    {
     "name": "stdout",
     "output_type": "stream",
     "text": [
      "10km cab ride almost costs $20 in NYC\n",
      "10\n",
      "km\n",
      "cab\n",
      "ride\n",
      "almost\n",
      "costs\n",
      "$\n",
      "20\n",
      "in\n",
      "NYC\n"
     ]
    }
   ],
   "source": [
    "doc3 = nlp(s3)\n",
    "print(s3)\n",
    "for token in doc3:\n",
    "    print(token)"
   ],
   "metadata": {
    "collapsed": false,
    "ExecuteTime": {
     "end_time": "2024-09-02T20:21:56.559087Z",
     "start_time": "2024-09-02T20:21:56.502400Z"
    }
   },
   "id": "3525fe5d71db1fab"
  },
  {
   "cell_type": "code",
   "execution_count": 9,
   "outputs": [
    {
     "name": "stdout",
     "output_type": "stream",
     "text": [
      "Let's watch a movie together.\n",
      "Let\n",
      "'s\n",
      "watch\n",
      "a\n",
      "movie\n",
      "together\n",
      ".\n"
     ]
    }
   ],
   "source": [
    "doc4 = nlp(s4)\n",
    "print(s4)\n",
    "for token in doc4:\n",
    "    print(token)"
   ],
   "metadata": {
    "collapsed": false,
    "ExecuteTime": {
     "end_time": "2024-09-02T20:22:12.664904600Z",
     "start_time": "2024-09-02T20:22:12.560313700Z"
    }
   },
   "id": "ef67b663d7d57d83"
  },
  {
   "cell_type": "code",
   "execution_count": 10,
   "outputs": [
    {
     "data": {
      "text/plain": "spacy.tokens.doc.Doc"
     },
     "execution_count": 10,
     "metadata": {},
     "output_type": "execute_result"
    }
   ],
   "source": [
    "type(doc4)"
   ],
   "metadata": {
    "collapsed": false,
    "ExecuteTime": {
     "end_time": "2024-09-02T20:24:59.351302800Z",
     "start_time": "2024-09-02T20:24:59.248560600Z"
    }
   },
   "id": "aa5cd1fdbeb6bfba"
  },
  {
   "cell_type": "code",
   "execution_count": 11,
   "outputs": [
    {
     "data": {
      "text/plain": "7"
     },
     "execution_count": 11,
     "metadata": {},
     "output_type": "execute_result"
    }
   ],
   "source": [
    "len(doc4)"
   ],
   "metadata": {
    "collapsed": false,
    "ExecuteTime": {
     "end_time": "2024-09-02T20:25:19.899864600Z",
     "start_time": "2024-09-02T20:25:19.841639700Z"
    }
   },
   "id": "bad89fdc46599399"
  },
  {
   "cell_type": "code",
   "execution_count": 12,
   "outputs": [
    {
     "data": {
      "text/plain": "Let"
     },
     "execution_count": 12,
     "metadata": {},
     "output_type": "execute_result"
    }
   ],
   "source": [
    "doc4[0]"
   ],
   "metadata": {
    "collapsed": false,
    "ExecuteTime": {
     "end_time": "2024-09-02T20:25:34.185786500Z",
     "start_time": "2024-09-02T20:25:34.142381100Z"
    }
   },
   "id": "7501d0f9a55c3b02"
  },
  {
   "cell_type": "code",
   "execution_count": null,
   "outputs": [],
   "source": [],
   "metadata": {
    "collapsed": false
   },
   "id": "652d51e0c3feed36"
  }
 ],
 "metadata": {
  "kernelspec": {
   "display_name": "Python 3",
   "language": "python",
   "name": "python3"
  },
  "language_info": {
   "codemirror_mode": {
    "name": "ipython",
    "version": 2
   },
   "file_extension": ".py",
   "mimetype": "text/x-python",
   "name": "python",
   "nbconvert_exporter": "python",
   "pygments_lexer": "ipython2",
   "version": "2.7.6"
  }
 },
 "nbformat": 4,
 "nbformat_minor": 5
}
