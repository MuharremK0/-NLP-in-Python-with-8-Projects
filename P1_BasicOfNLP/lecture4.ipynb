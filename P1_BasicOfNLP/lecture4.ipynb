{
 "cells": [
  {
   "cell_type": "code",
   "execution_count": 1,
   "id": "initial_id",
   "metadata": {
    "collapsed": true,
    "ExecuteTime": {
     "end_time": "2024-09-02T21:04:36.710773400Z",
     "start_time": "2024-09-02T21:04:36.691812500Z"
    }
   },
   "outputs": [],
   "source": [
    "# Rule-Based Matching"
   ]
  },
  {
   "cell_type": "code",
   "execution_count": 2,
   "outputs": [],
   "source": [
    "import spacy\n",
    "nlp = spacy.load('en_core_web_sm')"
   ],
   "metadata": {
    "collapsed": false,
    "ExecuteTime": {
     "end_time": "2024-09-02T21:04:57.527659700Z",
     "start_time": "2024-09-02T21:04:54.860596200Z"
    }
   },
   "id": "6f02c6e30e78a260"
  },
  {
   "cell_type": "code",
   "execution_count": 3,
   "outputs": [],
   "source": [
    "from spacy.matcher import Matcher\n",
    "matcher = Matcher(nlp.vocab)"
   ],
   "metadata": {
    "collapsed": false,
    "ExecuteTime": {
     "end_time": "2024-09-02T21:05:42.445566100Z",
     "start_time": "2024-09-02T21:05:42.372051300Z"
    }
   },
   "id": "2e21f45c3068ffe4"
  },
  {
   "cell_type": "code",
   "execution_count": 4,
   "outputs": [],
   "source": [
    "# patterns ->\n",
    "# 1) Hello World hello world Hello WORLD\n",
    "# 2) Hello-World\n",
    "\n",
    "pattern_1 = [{'LOWER':'hello'},{'LOWER':'world'}]\n",
    "pattern_2 = [{'LOWER':'hello'},{'IS_PUNCT':True},{'LOWER':'world'}]"
   ],
   "metadata": {
    "collapsed": false,
    "ExecuteTime": {
     "end_time": "2024-09-02T21:09:27.179186100Z",
     "start_time": "2024-09-02T21:09:27.118397200Z"
    }
   },
   "id": "75fa950e01a92975"
  },
  {
   "cell_type": "code",
   "execution_count": 6,
   "outputs": [],
   "source": [
    "matcher.add('Hello World',[pattern_1,pattern_2])"
   ],
   "metadata": {
    "collapsed": false,
    "ExecuteTime": {
     "end_time": "2024-09-02T21:12:50.850362300Z",
     "start_time": "2024-09-02T21:12:50.823427600Z"
    }
   },
   "id": "55b05a2fc35625a6"
  },
  {
   "cell_type": "code",
   "execution_count": 7,
   "outputs": [],
   "source": [
    "doc = nlp(\" 'Hello World' are the first two printed words for most of the programmers, printing 'Hello-World' is most common for beginners\")"
   ],
   "metadata": {
    "collapsed": false,
    "ExecuteTime": {
     "end_time": "2024-09-02T21:14:50.292781900Z",
     "start_time": "2024-09-02T21:14:50.243935100Z"
    }
   },
   "id": "cca94d49802d7da8"
  },
  {
   "cell_type": "code",
   "execution_count": 8,
   "outputs": [
    {
     "data": {
      "text/plain": " 'Hello World' are the first two printed words for most of the programmers, printing 'Hello-World' is most common for beginners"
     },
     "execution_count": 8,
     "metadata": {},
     "output_type": "execute_result"
    }
   ],
   "source": [
    "doc"
   ],
   "metadata": {
    "collapsed": false,
    "ExecuteTime": {
     "end_time": "2024-09-02T21:14:51.356986600Z",
     "start_time": "2024-09-02T21:14:51.292864Z"
    }
   },
   "id": "1317432ba01ceb35"
  },
  {
   "cell_type": "code",
   "execution_count": 9,
   "outputs": [
    {
     "name": "stdout",
     "output_type": "stream",
     "text": [
      "[(8585552006568828647, 2, 4), (8585552006568828647, 19, 22)]\n"
     ]
    }
   ],
   "source": [
    "find_matches = matcher(doc)\n",
    "print(find_matches)"
   ],
   "metadata": {
    "collapsed": false,
    "ExecuteTime": {
     "end_time": "2024-09-02T21:15:37.962563800Z",
     "start_time": "2024-09-02T21:15:37.914932Z"
    }
   },
   "id": "8ae9020491f573dd"
  },
  {
   "cell_type": "code",
   "execution_count": 10,
   "outputs": [
    {
     "name": "stdout",
     "output_type": "stream",
     "text": [
      "8585552006568828647 Hello World 2 4 Hello World\n",
      "8585552006568828647 Hello World 19 22 Hello-World\n"
     ]
    }
   ],
   "source": [
    "for match_id,start,end in find_matches:\n",
    "    string_id = nlp.vocab.strings[match_id]\n",
    "    span = doc[start:end]\n",
    "    print(match_id,string_id,start,end,span.text)"
   ],
   "metadata": {
    "collapsed": false,
    "ExecuteTime": {
     "end_time": "2024-09-02T21:18:48.671798800Z",
     "start_time": "2024-09-02T21:18:48.648888800Z"
    }
   },
   "id": "2dd7e2f72843f777"
  },
  {
   "cell_type": "code",
   "execution_count": 11,
   "outputs": [],
   "source": [
    "matcher.remove('Hello World')"
   ],
   "metadata": {
    "collapsed": false,
    "ExecuteTime": {
     "end_time": "2024-09-02T21:21:55.945502900Z",
     "start_time": "2024-09-02T21:21:55.840697500Z"
    }
   },
   "id": "d9ecb7f882984aa1"
  },
  {
   "cell_type": "code",
   "execution_count": 12,
   "outputs": [],
   "source": [
    "pattern_3 = [{'LOWER':'hello'},{'LOWER':'world'}]\n",
    "pattern_4 = [{'LOWER':'hello'},{'IS_PUNCT':True,'OP':'*'},{'LOWER':'world'}]\n",
    "matcher.add('Hello World',[pattern_3,pattern_4])"
   ],
   "metadata": {
    "collapsed": false,
    "ExecuteTime": {
     "end_time": "2024-09-02T21:24:08.891105600Z",
     "start_time": "2024-09-02T21:24:08.822773Z"
    }
   },
   "id": "cbe70fa1681ed5cc"
  },
  {
   "cell_type": "code",
   "execution_count": 13,
   "outputs": [],
   "source": [
    "doc_2 = nlp(\"You can print Hello World or hello world or Hello-World\")"
   ],
   "metadata": {
    "collapsed": false,
    "ExecuteTime": {
     "end_time": "2024-09-02T21:25:24.815237900Z",
     "start_time": "2024-09-02T21:25:24.731875400Z"
    }
   },
   "id": "c5ad601069bec82c"
  },
  {
   "cell_type": "code",
   "execution_count": 15,
   "outputs": [
    {
     "name": "stdout",
     "output_type": "stream",
     "text": [
      "[(8585552006568828647, 3, 5), (8585552006568828647, 6, 8), (8585552006568828647, 9, 12)]\n"
     ]
    }
   ],
   "source": [
    "find_matches = matcher(doc_2)\n",
    "print(find_matches)"
   ],
   "metadata": {
    "collapsed": false,
    "ExecuteTime": {
     "end_time": "2024-09-02T21:26:10.181451Z",
     "start_time": "2024-09-02T21:26:10.148242800Z"
    }
   },
   "id": "6cc34eb57882ecc6"
  },
  {
   "cell_type": "code",
   "execution_count": 16,
   "outputs": [],
   "source": [
    "# 'OP':'*' -> This is going to allow this pattern to match zero or more times for any punctuation"
   ],
   "metadata": {
    "collapsed": false,
    "ExecuteTime": {
     "end_time": "2024-09-02T21:28:27.757990800Z",
     "start_time": "2024-09-02T21:28:27.685514600Z"
    }
   },
   "id": "2317dcc3dcb00c46"
  },
  {
   "cell_type": "code",
   "execution_count": null,
   "outputs": [],
   "source": [],
   "metadata": {
    "collapsed": false
   },
   "id": "8216937b680324c4"
  }
 ],
 "metadata": {
  "kernelspec": {
   "display_name": "Python 3",
   "language": "python",
   "name": "python3"
  },
  "language_info": {
   "codemirror_mode": {
    "name": "ipython",
    "version": 2
   },
   "file_extension": ".py",
   "mimetype": "text/x-python",
   "name": "python",
   "nbconvert_exporter": "python",
   "pygments_lexer": "ipython2",
   "version": "2.7.6"
  }
 },
 "nbformat": 4,
 "nbformat_minor": 5
}
