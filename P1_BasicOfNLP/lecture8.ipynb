{
 "cells": [
  {
   "cell_type": "code",
   "execution_count": 4,
   "outputs": [],
   "source": [
    "# Sentence Segmentation"
   ],
   "metadata": {
    "collapsed": false,
    "ExecuteTime": {
     "end_time": "2024-09-09T20:14:53.509291800Z",
     "start_time": "2024-09-09T20:14:53.501320200Z"
    }
   },
   "id": "898887da55841ef3"
  },
  {
   "cell_type": "code",
   "execution_count": 1,
   "outputs": [],
   "source": [
    "s1 = \"This is a sentence. This is second sentence. This is last sentence.\"\n",
    "s2 = \"This is a sentence; This is second sentence; This is last sentence.\""
   ],
   "metadata": {
    "collapsed": false,
    "ExecuteTime": {
     "start_time": "2024-09-09T20:13:47.322972600Z"
    }
   },
   "id": "initial_id"
  },
  {
   "cell_type": "code",
   "execution_count": 2,
   "outputs": [],
   "source": [
    "import spacy\n",
    "nlp = spacy.load(name='en_core_web_sm')"
   ],
   "metadata": {
    "collapsed": false,
    "ExecuteTime": {
     "start_time": "2024-09-09T20:14:01.487579800Z"
    }
   },
   "id": "468484f450954dbe"
  },
  {
   "cell_type": "code",
   "execution_count": 3,
   "outputs": [],
   "source": [
    "doc1 = nlp(s1)"
   ],
   "metadata": {
    "collapsed": false,
    "ExecuteTime": {
     "start_time": "2024-09-09T20:14:23.440149200Z"
    }
   },
   "id": "9ed368ee5b11b36a"
  },
  {
   "cell_type": "code",
   "execution_count": 5,
   "outputs": [
    {
     "name": "stdout",
     "output_type": "stream",
     "text": [
      "This is a sentence.\n",
      "This is second sentence.\n",
      "This is last sentence.\n"
     ]
    }
   ],
   "source": [
    "for sent in doc1.sents:\n",
    "    print(sent.text)"
   ],
   "metadata": {
    "collapsed": false,
    "ExecuteTime": {
     "end_time": "2024-09-09T20:16:11.152990500Z",
     "start_time": "2024-09-09T20:16:11.075880900Z"
    }
   },
   "id": "116e54dcd42406eb"
  },
  {
   "cell_type": "code",
   "execution_count": 6,
   "outputs": [],
   "source": [
    "s3 = \"This is a sentence. This is second U.K. sentence. This is last sentence.\""
   ],
   "metadata": {
    "collapsed": false,
    "ExecuteTime": {
     "end_time": "2024-09-09T20:16:30.747825900Z",
     "start_time": "2024-09-09T20:16:30.730865Z"
    }
   },
   "id": "10534a0eb81cc72a"
  },
  {
   "cell_type": "code",
   "execution_count": 7,
   "outputs": [
    {
     "name": "stdout",
     "output_type": "stream",
     "text": [
      "This is a sentence.\n",
      "This is second U.K. sentence.\n",
      "This is last sentence.\n"
     ]
    }
   ],
   "source": [
    "doc3 = nlp(s3)\n",
    "for sent in doc3.sents:\n",
    "    print(sent.text)"
   ],
   "metadata": {
    "collapsed": false,
    "ExecuteTime": {
     "end_time": "2024-09-09T20:16:42.515188500Z",
     "start_time": "2024-09-09T20:16:42.468510Z"
    }
   },
   "id": "b5ff062ad66ead02"
  },
  {
   "cell_type": "code",
   "execution_count": 8,
   "outputs": [
    {
     "name": "stdout",
     "output_type": "stream",
     "text": [
      "This is a sentence; This is second sentence; This is last sentence.\n"
     ]
    }
   ],
   "source": [
    "doc2 = nlp(s2)\n",
    "for sent in doc2.sents:\n",
    "    print(sent.text)"
   ],
   "metadata": {
    "collapsed": false,
    "ExecuteTime": {
     "end_time": "2024-09-09T20:17:32.486567100Z",
     "start_time": "2024-09-09T20:17:32.421925600Z"
    }
   },
   "id": "654b1aba7c2f10d4"
  },
  {
   "cell_type": "code",
   "execution_count": 12,
   "outputs": [],
   "source": [
    "from spacy.language import Language\n",
    "\n",
    "@Language.component(\"info_boundaries\")\n",
    "def set_custom_boundaries(doc):\n",
    "    for token in doc[:-1]:\n",
    "        if token.text == ';':\n",
    "            print(token.i)\n",
    "            doc[token.i+1].is_sent_start = True\n",
    "    return doc"
   ],
   "metadata": {
    "collapsed": false,
    "ExecuteTime": {
     "end_time": "2024-09-09T20:23:56.896369400Z",
     "start_time": "2024-09-09T20:23:56.878410300Z"
    }
   },
   "id": "238fdd6eae63da24"
  },
  {
   "cell_type": "code",
   "execution_count": 13,
   "outputs": [
    {
     "data": {
      "text/plain": "['tok2vec', 'tagger', 'parser', 'attribute_ruler', 'lemmatizer', 'ner']"
     },
     "execution_count": 13,
     "metadata": {},
     "output_type": "execute_result"
    }
   ],
   "source": [
    "nlp.pipe_names"
   ],
   "metadata": {
    "collapsed": false,
    "ExecuteTime": {
     "end_time": "2024-09-09T20:23:58.487849Z",
     "start_time": "2024-09-09T20:23:58.463909200Z"
    }
   },
   "id": "a9703f2beb1b25f8"
  },
  {
   "cell_type": "code",
   "execution_count": 14,
   "outputs": [
    {
     "data": {
      "text/plain": "<function __main__.set_custom_boundaries(doc)>"
     },
     "execution_count": 14,
     "metadata": {},
     "output_type": "execute_result"
    }
   ],
   "source": [
    "nlp.add_pipe('info_boundaries','set_custom_boundaries',before='parser')"
   ],
   "metadata": {
    "collapsed": false,
    "ExecuteTime": {
     "end_time": "2024-09-09T20:24:46.271068500Z",
     "start_time": "2024-09-09T20:24:46.256599600Z"
    }
   },
   "id": "a9018cbe80029d15"
  },
  {
   "cell_type": "code",
   "execution_count": 15,
   "outputs": [
    {
     "data": {
      "text/plain": "['tok2vec',\n 'tagger',\n 'set_custom_boundaries',\n 'parser',\n 'attribute_ruler',\n 'lemmatizer',\n 'ner']"
     },
     "execution_count": 15,
     "metadata": {},
     "output_type": "execute_result"
    }
   ],
   "source": [
    "nlp.pipe_names"
   ],
   "metadata": {
    "collapsed": false,
    "ExecuteTime": {
     "end_time": "2024-09-09T20:24:53.302515900Z",
     "start_time": "2024-09-09T20:24:53.291534Z"
    }
   },
   "id": "312dff9d498db28e"
  },
  {
   "cell_type": "code",
   "execution_count": 16,
   "outputs": [
    {
     "name": "stdout",
     "output_type": "stream",
     "text": [
      "4\n",
      "9\n",
      "This is a sentence;\n",
      "This is second sentence;\n",
      "This is last sentence.\n"
     ]
    }
   ],
   "source": [
    "doc_2 = nlp(s2)\n",
    "for sent in doc_2.sents:\n",
    "    print(sent.text)"
   ],
   "metadata": {
    "collapsed": false,
    "ExecuteTime": {
     "end_time": "2024-09-09T20:26:10.332291500Z",
     "start_time": "2024-09-09T20:26:10.281302700Z"
    }
   },
   "id": "d696c12d07357ec1"
  },
  {
   "cell_type": "code",
   "execution_count": null,
   "outputs": [],
   "source": [],
   "metadata": {
    "collapsed": false
   },
   "id": "7ad87476c100d4c8"
  }
 ],
 "metadata": {
  "kernelspec": {
   "display_name": "Python 3",
   "language": "python",
   "name": "python3"
  },
  "language_info": {
   "codemirror_mode": {
    "name": "ipython",
    "version": 2
   },
   "file_extension": ".py",
   "mimetype": "text/x-python",
   "name": "python",
   "nbconvert_exporter": "python",
   "pygments_lexer": "ipython2",
   "version": "2.7.6"
  }
 },
 "nbformat": 4,
 "nbformat_minor": 5
}
