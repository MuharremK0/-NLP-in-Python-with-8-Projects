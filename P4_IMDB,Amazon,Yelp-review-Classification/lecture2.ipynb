{
 "cells": [
  {
   "cell_type": "code",
   "execution_count": 1,
   "id": "initial_id",
   "metadata": {
    "collapsed": true,
    "ExecuteTime": {
     "end_time": "2024-09-10T20:02:54.632094900Z",
     "start_time": "2024-09-10T20:02:51.763214500Z"
    }
   },
   "outputs": [],
   "source": [
    "import numpy as np\n",
    "import matplotlib.pyplot as plt\n",
    "import pandas as pd"
   ]
  },
  {
   "cell_type": "code",
   "execution_count": 2,
   "outputs": [],
   "source": [
    "data_yelp = pd.read_csv(\"yelp_labelled.txt\",sep='\\t',header=None)"
   ],
   "metadata": {
    "collapsed": false,
    "ExecuteTime": {
     "end_time": "2024-09-10T20:03:12.064735Z",
     "start_time": "2024-09-10T20:03:12.014784400Z"
    }
   },
   "id": "2f2c2d814b461661"
  },
  {
   "cell_type": "code",
   "execution_count": 3,
   "outputs": [
    {
     "data": {
      "text/plain": "                                                   0  1\n0                           Wow... Loved this place.  1\n1                                 Crust is not good.  0\n2          Not tasty and the texture was just nasty.  0\n3  Stopped by during the late May bank holiday of...  1\n4  The selection on the menu was great and so wer...  1",
      "text/html": "<div>\n<style scoped>\n    .dataframe tbody tr th:only-of-type {\n        vertical-align: middle;\n    }\n\n    .dataframe tbody tr th {\n        vertical-align: top;\n    }\n\n    .dataframe thead th {\n        text-align: right;\n    }\n</style>\n<table border=\"1\" class=\"dataframe\">\n  <thead>\n    <tr style=\"text-align: right;\">\n      <th></th>\n      <th>0</th>\n      <th>1</th>\n    </tr>\n  </thead>\n  <tbody>\n    <tr>\n      <th>0</th>\n      <td>Wow... Loved this place.</td>\n      <td>1</td>\n    </tr>\n    <tr>\n      <th>1</th>\n      <td>Crust is not good.</td>\n      <td>0</td>\n    </tr>\n    <tr>\n      <th>2</th>\n      <td>Not tasty and the texture was just nasty.</td>\n      <td>0</td>\n    </tr>\n    <tr>\n      <th>3</th>\n      <td>Stopped by during the late May bank holiday of...</td>\n      <td>1</td>\n    </tr>\n    <tr>\n      <th>4</th>\n      <td>The selection on the menu was great and so wer...</td>\n      <td>1</td>\n    </tr>\n  </tbody>\n</table>\n</div>"
     },
     "execution_count": 3,
     "metadata": {},
     "output_type": "execute_result"
    }
   ],
   "source": [
    "data_yelp.head()"
   ],
   "metadata": {
    "collapsed": false,
    "ExecuteTime": {
     "end_time": "2024-09-10T20:03:20.225576300Z",
     "start_time": "2024-09-10T20:03:20.109458800Z"
    }
   },
   "id": "5b30aeceb489eb02"
  },
  {
   "cell_type": "code",
   "execution_count": 4,
   "outputs": [],
   "source": [
    "column_name = ['Review','Sentiment']\n",
    "data_yelp.columns = column_name"
   ],
   "metadata": {
    "collapsed": false,
    "ExecuteTime": {
     "end_time": "2024-09-10T20:03:50.161913600Z",
     "start_time": "2024-09-10T20:03:50.032437400Z"
    }
   },
   "id": "ae443165a37676ab"
  },
  {
   "cell_type": "code",
   "execution_count": 5,
   "outputs": [
    {
     "data": {
      "text/plain": "                                              Review  Sentiment\n0                           Wow... Loved this place.          1\n1                                 Crust is not good.          0\n2          Not tasty and the texture was just nasty.          0\n3  Stopped by during the late May bank holiday of...          1\n4  The selection on the menu was great and so wer...          1",
      "text/html": "<div>\n<style scoped>\n    .dataframe tbody tr th:only-of-type {\n        vertical-align: middle;\n    }\n\n    .dataframe tbody tr th {\n        vertical-align: top;\n    }\n\n    .dataframe thead th {\n        text-align: right;\n    }\n</style>\n<table border=\"1\" class=\"dataframe\">\n  <thead>\n    <tr style=\"text-align: right;\">\n      <th></th>\n      <th>Review</th>\n      <th>Sentiment</th>\n    </tr>\n  </thead>\n  <tbody>\n    <tr>\n      <th>0</th>\n      <td>Wow... Loved this place.</td>\n      <td>1</td>\n    </tr>\n    <tr>\n      <th>1</th>\n      <td>Crust is not good.</td>\n      <td>0</td>\n    </tr>\n    <tr>\n      <th>2</th>\n      <td>Not tasty and the texture was just nasty.</td>\n      <td>0</td>\n    </tr>\n    <tr>\n      <th>3</th>\n      <td>Stopped by during the late May bank holiday of...</td>\n      <td>1</td>\n    </tr>\n    <tr>\n      <th>4</th>\n      <td>The selection on the menu was great and so wer...</td>\n      <td>1</td>\n    </tr>\n  </tbody>\n</table>\n</div>"
     },
     "execution_count": 5,
     "metadata": {},
     "output_type": "execute_result"
    }
   ],
   "source": [
    "data_yelp.head()"
   ],
   "metadata": {
    "collapsed": false,
    "ExecuteTime": {
     "end_time": "2024-09-10T20:04:26.734474500Z",
     "start_time": "2024-09-10T20:04:26.569417400Z"
    }
   },
   "id": "c2f547a97e89a276"
  },
  {
   "cell_type": "code",
   "execution_count": 6,
   "outputs": [
    {
     "data": {
      "text/plain": "(1000, 2)"
     },
     "execution_count": 6,
     "metadata": {},
     "output_type": "execute_result"
    }
   ],
   "source": [
    "data_yelp.shape"
   ],
   "metadata": {
    "collapsed": false,
    "ExecuteTime": {
     "end_time": "2024-09-10T20:04:32.940555400Z",
     "start_time": "2024-09-10T20:04:32.873295300Z"
    }
   },
   "id": "41d43cf351ec963f"
  },
  {
   "cell_type": "code",
   "execution_count": 7,
   "outputs": [
    {
     "data": {
      "text/plain": "                                                   0  1\n0  So there is no way for me to plug it in here i...  0\n1                        Good case, Excellent value.  1\n2                             Great for the jawbone.  1\n3  Tied to charger for conversations lasting more...  0\n4                                  The mic is great.  1",
      "text/html": "<div>\n<style scoped>\n    .dataframe tbody tr th:only-of-type {\n        vertical-align: middle;\n    }\n\n    .dataframe tbody tr th {\n        vertical-align: top;\n    }\n\n    .dataframe thead th {\n        text-align: right;\n    }\n</style>\n<table border=\"1\" class=\"dataframe\">\n  <thead>\n    <tr style=\"text-align: right;\">\n      <th></th>\n      <th>0</th>\n      <th>1</th>\n    </tr>\n  </thead>\n  <tbody>\n    <tr>\n      <th>0</th>\n      <td>So there is no way for me to plug it in here i...</td>\n      <td>0</td>\n    </tr>\n    <tr>\n      <th>1</th>\n      <td>Good case, Excellent value.</td>\n      <td>1</td>\n    </tr>\n    <tr>\n      <th>2</th>\n      <td>Great for the jawbone.</td>\n      <td>1</td>\n    </tr>\n    <tr>\n      <th>3</th>\n      <td>Tied to charger for conversations lasting more...</td>\n      <td>0</td>\n    </tr>\n    <tr>\n      <th>4</th>\n      <td>The mic is great.</td>\n      <td>1</td>\n    </tr>\n  </tbody>\n</table>\n</div>"
     },
     "execution_count": 7,
     "metadata": {},
     "output_type": "execute_result"
    }
   ],
   "source": [
    "data_amazon = pd.read_csv('amazon_cells_labelled.txt',sep='\\t',header=None)\n",
    "data_amazon.head()"
   ],
   "metadata": {
    "collapsed": false,
    "ExecuteTime": {
     "end_time": "2024-09-10T20:05:29.523265700Z",
     "start_time": "2024-09-10T20:05:29.382550200Z"
    }
   },
   "id": "eb9af08212a3cbc7"
  },
  {
   "cell_type": "code",
   "execution_count": 8,
   "outputs": [],
   "source": [
    "data_amazon.columns = column_name"
   ],
   "metadata": {
    "collapsed": false,
    "ExecuteTime": {
     "end_time": "2024-09-10T20:05:41.285202800Z",
     "start_time": "2024-09-10T20:05:41.130356400Z"
    }
   },
   "id": "d8edb29b8200dd11"
  },
  {
   "cell_type": "code",
   "execution_count": 9,
   "outputs": [
    {
     "data": {
      "text/plain": "                                              Review  Sentiment\n0  So there is no way for me to plug it in here i...          0\n1                        Good case, Excellent value.          1\n2                             Great for the jawbone.          1\n3  Tied to charger for conversations lasting more...          0\n4                                  The mic is great.          1",
      "text/html": "<div>\n<style scoped>\n    .dataframe tbody tr th:only-of-type {\n        vertical-align: middle;\n    }\n\n    .dataframe tbody tr th {\n        vertical-align: top;\n    }\n\n    .dataframe thead th {\n        text-align: right;\n    }\n</style>\n<table border=\"1\" class=\"dataframe\">\n  <thead>\n    <tr style=\"text-align: right;\">\n      <th></th>\n      <th>Review</th>\n      <th>Sentiment</th>\n    </tr>\n  </thead>\n  <tbody>\n    <tr>\n      <th>0</th>\n      <td>So there is no way for me to plug it in here i...</td>\n      <td>0</td>\n    </tr>\n    <tr>\n      <th>1</th>\n      <td>Good case, Excellent value.</td>\n      <td>1</td>\n    </tr>\n    <tr>\n      <th>2</th>\n      <td>Great for the jawbone.</td>\n      <td>1</td>\n    </tr>\n    <tr>\n      <th>3</th>\n      <td>Tied to charger for conversations lasting more...</td>\n      <td>0</td>\n    </tr>\n    <tr>\n      <th>4</th>\n      <td>The mic is great.</td>\n      <td>1</td>\n    </tr>\n  </tbody>\n</table>\n</div>"
     },
     "execution_count": 9,
     "metadata": {},
     "output_type": "execute_result"
    }
   ],
   "source": [
    "data_amazon.head()"
   ],
   "metadata": {
    "collapsed": false,
    "ExecuteTime": {
     "end_time": "2024-09-10T20:05:46.019909600Z",
     "start_time": "2024-09-10T20:05:45.968008300Z"
    }
   },
   "id": "6d7e02174c566004"
  },
  {
   "cell_type": "code",
   "execution_count": 10,
   "outputs": [
    {
     "data": {
      "text/plain": "(1000, 2)"
     },
     "execution_count": 10,
     "metadata": {},
     "output_type": "execute_result"
    }
   ],
   "source": [
    "data_amazon.shape"
   ],
   "metadata": {
    "collapsed": false,
    "ExecuteTime": {
     "end_time": "2024-09-10T20:05:59.028651500Z",
     "start_time": "2024-09-10T20:05:58.963393300Z"
    }
   },
   "id": "80d4d813bafbfa4a"
  },
  {
   "cell_type": "code",
   "execution_count": 11,
   "outputs": [
    {
     "data": {
      "text/plain": "                                                   0  1\n0  A very, very, very slow-moving, aimless movie ...  0\n1  Not sure who was more lost - the flat characte...  0\n2  Attempting artiness with black & white and cle...  0\n3       Very little music or anything to speak of.    0\n4  The best scene in the movie was when Gerardo i...  1",
      "text/html": "<div>\n<style scoped>\n    .dataframe tbody tr th:only-of-type {\n        vertical-align: middle;\n    }\n\n    .dataframe tbody tr th {\n        vertical-align: top;\n    }\n\n    .dataframe thead th {\n        text-align: right;\n    }\n</style>\n<table border=\"1\" class=\"dataframe\">\n  <thead>\n    <tr style=\"text-align: right;\">\n      <th></th>\n      <th>0</th>\n      <th>1</th>\n    </tr>\n  </thead>\n  <tbody>\n    <tr>\n      <th>0</th>\n      <td>A very, very, very slow-moving, aimless movie ...</td>\n      <td>0</td>\n    </tr>\n    <tr>\n      <th>1</th>\n      <td>Not sure who was more lost - the flat characte...</td>\n      <td>0</td>\n    </tr>\n    <tr>\n      <th>2</th>\n      <td>Attempting artiness with black &amp; white and cle...</td>\n      <td>0</td>\n    </tr>\n    <tr>\n      <th>3</th>\n      <td>Very little music or anything to speak of.</td>\n      <td>0</td>\n    </tr>\n    <tr>\n      <th>4</th>\n      <td>The best scene in the movie was when Gerardo i...</td>\n      <td>1</td>\n    </tr>\n  </tbody>\n</table>\n</div>"
     },
     "execution_count": 11,
     "metadata": {},
     "output_type": "execute_result"
    }
   ],
   "source": [
    "data_imdb = pd.read_csv('imdb_labelled.txt',sep='\\t',header=None)\n",
    "data_imdb.head()"
   ],
   "metadata": {
    "collapsed": false,
    "ExecuteTime": {
     "end_time": "2024-09-10T20:08:18.902185500Z",
     "start_time": "2024-09-10T20:08:18.787371100Z"
    }
   },
   "id": "c25263ce1aef0a3c"
  },
  {
   "cell_type": "code",
   "execution_count": 12,
   "outputs": [],
   "source": [
    "data_imdb.columns = column_name"
   ],
   "metadata": {
    "collapsed": false,
    "ExecuteTime": {
     "end_time": "2024-09-10T20:08:31.313779300Z",
     "start_time": "2024-09-10T20:08:31.268039500Z"
    }
   },
   "id": "f6007d5d3018e697"
  },
  {
   "cell_type": "code",
   "execution_count": 13,
   "outputs": [
    {
     "data": {
      "text/plain": "                                              Review  Sentiment\n0  A very, very, very slow-moving, aimless movie ...          0\n1  Not sure who was more lost - the flat characte...          0\n2  Attempting artiness with black & white and cle...          0\n3       Very little music or anything to speak of.            0\n4  The best scene in the movie was when Gerardo i...          1",
      "text/html": "<div>\n<style scoped>\n    .dataframe tbody tr th:only-of-type {\n        vertical-align: middle;\n    }\n\n    .dataframe tbody tr th {\n        vertical-align: top;\n    }\n\n    .dataframe thead th {\n        text-align: right;\n    }\n</style>\n<table border=\"1\" class=\"dataframe\">\n  <thead>\n    <tr style=\"text-align: right;\">\n      <th></th>\n      <th>Review</th>\n      <th>Sentiment</th>\n    </tr>\n  </thead>\n  <tbody>\n    <tr>\n      <th>0</th>\n      <td>A very, very, very slow-moving, aimless movie ...</td>\n      <td>0</td>\n    </tr>\n    <tr>\n      <th>1</th>\n      <td>Not sure who was more lost - the flat characte...</td>\n      <td>0</td>\n    </tr>\n    <tr>\n      <th>2</th>\n      <td>Attempting artiness with black &amp; white and cle...</td>\n      <td>0</td>\n    </tr>\n    <tr>\n      <th>3</th>\n      <td>Very little music or anything to speak of.</td>\n      <td>0</td>\n    </tr>\n    <tr>\n      <th>4</th>\n      <td>The best scene in the movie was when Gerardo i...</td>\n      <td>1</td>\n    </tr>\n  </tbody>\n</table>\n</div>"
     },
     "execution_count": 13,
     "metadata": {},
     "output_type": "execute_result"
    }
   ],
   "source": [
    "data_imdb.head()"
   ],
   "metadata": {
    "collapsed": false,
    "ExecuteTime": {
     "end_time": "2024-09-10T20:08:36.524028300Z",
     "start_time": "2024-09-10T20:08:36.446539800Z"
    }
   },
   "id": "7fe62b4644766417"
  },
  {
   "cell_type": "code",
   "execution_count": 14,
   "outputs": [
    {
     "data": {
      "text/plain": "(748, 2)"
     },
     "execution_count": 14,
     "metadata": {},
     "output_type": "execute_result"
    }
   ],
   "source": [
    "data_imdb.shape"
   ],
   "metadata": {
    "collapsed": false,
    "ExecuteTime": {
     "end_time": "2024-09-10T20:08:44.866721100Z",
     "start_time": "2024-09-10T20:08:44.833095900Z"
    }
   },
   "id": "c1aff6b59c7c3c74"
  },
  {
   "cell_type": "code",
   "execution_count": 15,
   "outputs": [],
   "source": [
    "# Append all the data in a single dataframe"
   ],
   "metadata": {
    "collapsed": false,
    "ExecuteTime": {
     "end_time": "2024-09-10T20:09:41.941269Z",
     "start_time": "2024-09-10T20:09:41.907329500Z"
    }
   },
   "id": "4895de1e2ff788f1"
  },
  {
   "cell_type": "code",
   "execution_count": 16,
   "outputs": [
    {
     "name": "stderr",
     "output_type": "stream",
     "text": [
      "C:\\Users\\PC\\AppData\\Local\\Temp\\ipykernel_19892\\3996123729.py:1: FutureWarning: The frame.append method is deprecated and will be removed from pandas in a future version. Use pandas.concat instead.\n",
      "  data = data_yelp.append([data_amazon,data_imdb],ignore_index=True)\n"
     ]
    }
   ],
   "source": [
    "data = data_yelp.append([data_amazon,data_imdb],ignore_index=True)"
   ],
   "metadata": {
    "collapsed": false,
    "ExecuteTime": {
     "end_time": "2024-09-10T20:10:05.028623600Z",
     "start_time": "2024-09-10T20:10:04.863630500Z"
    }
   },
   "id": "53a79e6c9b3734f"
  },
  {
   "cell_type": "code",
   "execution_count": 17,
   "outputs": [
    {
     "data": {
      "text/plain": "(2748, 2)"
     },
     "execution_count": 17,
     "metadata": {},
     "output_type": "execute_result"
    }
   ],
   "source": [
    "data.shape"
   ],
   "metadata": {
    "collapsed": false,
    "ExecuteTime": {
     "end_time": "2024-09-10T20:10:07.812581Z",
     "start_time": "2024-09-10T20:10:07.757180Z"
    }
   },
   "id": "6c698160e6c807f6"
  },
  {
   "cell_type": "code",
   "execution_count": 18,
   "outputs": [
    {
     "data": {
      "text/plain": "                                              Review  Sentiment\n0                           Wow... Loved this place.          1\n1                                 Crust is not good.          0\n2          Not tasty and the texture was just nasty.          0\n3  Stopped by during the late May bank holiday of...          1\n4  The selection on the menu was great and so wer...          1",
      "text/html": "<div>\n<style scoped>\n    .dataframe tbody tr th:only-of-type {\n        vertical-align: middle;\n    }\n\n    .dataframe tbody tr th {\n        vertical-align: top;\n    }\n\n    .dataframe thead th {\n        text-align: right;\n    }\n</style>\n<table border=\"1\" class=\"dataframe\">\n  <thead>\n    <tr style=\"text-align: right;\">\n      <th></th>\n      <th>Review</th>\n      <th>Sentiment</th>\n    </tr>\n  </thead>\n  <tbody>\n    <tr>\n      <th>0</th>\n      <td>Wow... Loved this place.</td>\n      <td>1</td>\n    </tr>\n    <tr>\n      <th>1</th>\n      <td>Crust is not good.</td>\n      <td>0</td>\n    </tr>\n    <tr>\n      <th>2</th>\n      <td>Not tasty and the texture was just nasty.</td>\n      <td>0</td>\n    </tr>\n    <tr>\n      <th>3</th>\n      <td>Stopped by during the late May bank holiday of...</td>\n      <td>1</td>\n    </tr>\n    <tr>\n      <th>4</th>\n      <td>The selection on the menu was great and so wer...</td>\n      <td>1</td>\n    </tr>\n  </tbody>\n</table>\n</div>"
     },
     "execution_count": 18,
     "metadata": {},
     "output_type": "execute_result"
    }
   ],
   "source": [
    "data.head()"
   ],
   "metadata": {
    "collapsed": false,
    "ExecuteTime": {
     "end_time": "2024-09-10T20:10:12.865820400Z",
     "start_time": "2024-09-10T20:10:12.816645100Z"
    }
   },
   "id": "6a778e614b230409"
  },
  {
   "cell_type": "code",
   "execution_count": 19,
   "outputs": [
    {
     "data": {
      "text/plain": "1    1386\n0    1362\nName: Sentiment, dtype: int64"
     },
     "execution_count": 19,
     "metadata": {},
     "output_type": "execute_result"
    }
   ],
   "source": [
    "data['Sentiment'].value_counts()"
   ],
   "metadata": {
    "collapsed": false,
    "ExecuteTime": {
     "end_time": "2024-09-10T20:10:50.337525100Z",
     "start_time": "2024-09-10T20:10:50.218716400Z"
    }
   },
   "id": "435de44e42bf4269"
  },
  {
   "cell_type": "code",
   "execution_count": 20,
   "outputs": [
    {
     "data": {
      "text/plain": "Review       0\nSentiment    0\ndtype: int64"
     },
     "execution_count": 20,
     "metadata": {},
     "output_type": "execute_result"
    }
   ],
   "source": [
    "data.isnull().sum()"
   ],
   "metadata": {
    "collapsed": false,
    "ExecuteTime": {
     "end_time": "2024-09-10T20:11:14.250665600Z",
     "start_time": "2024-09-10T20:11:14.077488200Z"
    }
   },
   "id": "4a9266427a548e48"
  },
  {
   "cell_type": "code",
   "execution_count": 21,
   "outputs": [],
   "source": [
    "X = data['Review']\n",
    "y = data['Sentiment']"
   ],
   "metadata": {
    "collapsed": false,
    "ExecuteTime": {
     "end_time": "2024-09-10T20:11:33.705215700Z",
     "start_time": "2024-09-10T20:11:33.395354900Z"
    }
   },
   "id": "e927eddc7634706b"
  },
  {
   "cell_type": "code",
   "execution_count": 22,
   "outputs": [],
   "source": [
    "# Data cleaning"
   ],
   "metadata": {
    "collapsed": false,
    "ExecuteTime": {
     "end_time": "2024-09-10T20:12:08.083276800Z",
     "start_time": "2024-09-10T20:12:08.012570900Z"
    }
   },
   "id": "91d025727c68c9e4"
  },
  {
   "cell_type": "code",
   "execution_count": 23,
   "outputs": [],
   "source": [
    "import string"
   ],
   "metadata": {
    "collapsed": false,
    "ExecuteTime": {
     "end_time": "2024-09-10T20:12:43.464323700Z",
     "start_time": "2024-09-10T20:12:43.336507200Z"
    }
   },
   "id": "7b5c191fbd6d1cec"
  },
  {
   "cell_type": "code",
   "execution_count": 24,
   "outputs": [],
   "source": [
    "punct = string.punctuation"
   ],
   "metadata": {
    "collapsed": false,
    "ExecuteTime": {
     "end_time": "2024-09-10T20:12:49.454339100Z",
     "start_time": "2024-09-10T20:12:49.260464500Z"
    }
   },
   "id": "1c78b6a269988cea"
  },
  {
   "cell_type": "code",
   "execution_count": 25,
   "outputs": [
    {
     "data": {
      "text/plain": "'!\"#$%&\\'()*+,-./:;<=>?@[\\\\]^_`{|}~'"
     },
     "execution_count": 25,
     "metadata": {},
     "output_type": "execute_result"
    }
   ],
   "source": [
    "punct"
   ],
   "metadata": {
    "collapsed": false,
    "ExecuteTime": {
     "end_time": "2024-09-10T20:12:52.351818500Z",
     "start_time": "2024-09-10T20:12:52.176431100Z"
    }
   },
   "id": "eac5df1f5143a72a"
  },
  {
   "cell_type": "code",
   "execution_count": 26,
   "outputs": [],
   "source": [
    "from spacy.lang.en.stop_words import STOP_WORDS"
   ],
   "metadata": {
    "collapsed": false,
    "ExecuteTime": {
     "end_time": "2024-09-10T20:13:10.953934100Z",
     "start_time": "2024-09-10T20:13:08.099125100Z"
    }
   },
   "id": "e9af5d54a1926748"
  },
  {
   "cell_type": "code",
   "execution_count": 27,
   "outputs": [],
   "source": [
    "stopwords = list(STOP_WORDS)"
   ],
   "metadata": {
    "collapsed": false,
    "ExecuteTime": {
     "end_time": "2024-09-10T20:13:21.823518800Z",
     "start_time": "2024-09-10T20:13:21.685339300Z"
    }
   },
   "id": "366423e25285d692"
  },
  {
   "cell_type": "code",
   "execution_count": 29,
   "outputs": [
    {
     "data": {
      "text/plain": "['the',\n '‘ll',\n 'or',\n 'not',\n '’d',\n '’m',\n 'had',\n 'put',\n 'myself',\n 'behind',\n 'whose',\n 'becomes',\n 'seem',\n 'wherever',\n 'who',\n 'their',\n 'any',\n 'never',\n 'he',\n 'eleven',\n 'some',\n 'hers',\n 'whereby',\n 'alone',\n 'these',\n 'whatever',\n 'i',\n \"'m\",\n 'latter',\n 'besides',\n 'beyond',\n 'thence',\n 'yet',\n 'be',\n 'do',\n 'from',\n 'might',\n 'will',\n 'without',\n \"'ll\",\n 'at',\n 'ten',\n 'after',\n 'once',\n \"'s\",\n 'neither',\n 'show',\n 'each',\n 'those',\n 'whom',\n 'very',\n 'is',\n 'ever',\n 'into',\n 'through',\n 'an',\n 'no',\n 'his',\n 'did',\n 'when',\n 'too',\n 'see',\n 'yours',\n 'three',\n 'four',\n 'nor',\n 'wherein',\n \"'d\",\n 'above',\n 'it',\n 'whenever',\n 'somehow',\n 'via',\n 'whence',\n 'nine',\n 'thru',\n 'thereupon',\n 'due',\n 'part',\n 'thereby',\n 'made',\n 'get',\n 'moreover',\n 'however',\n 'ca',\n 'anything',\n 'such',\n 'least',\n 'were',\n 'him',\n 'everywhere',\n 'elsewhere',\n 'used',\n 'go',\n 'done',\n 'she',\n 'could',\n 'say',\n 'you',\n 'herself',\n 'therefore',\n 'yourself',\n '‘ve',\n 'would',\n 'cannot',\n 'often',\n 'of',\n 'should',\n 'where',\n 'afterwards',\n 'beside',\n 'seems',\n 'several',\n 'does',\n 'full',\n 'bottom',\n 'something',\n 'himself',\n 'and',\n 'fifty',\n \"n't\",\n 'down',\n 'only',\n 'per',\n 'back',\n 'mostly',\n 'so',\n 'around',\n 'again',\n 'under',\n 'nothing',\n 'which',\n 'most',\n 'this',\n 'about',\n 'nowhere',\n 'either',\n 'many',\n 'therein',\n 'every',\n 'whereas',\n 'just',\n 'throughout',\n 'along',\n 'former',\n 'indeed',\n 'hence',\n \"'ve\",\n 'until',\n 'us',\n 're',\n 'hereby',\n 'twenty',\n 'else',\n 'what',\n 'more',\n 'anyone',\n 'next',\n 'against',\n 'meanwhile',\n 'forty',\n 'upon',\n 'name',\n 'keep',\n 'over',\n 'hereafter',\n 'a',\n 'up',\n 'please',\n 'still',\n 'everything',\n 'beforehand',\n 'give',\n 'them',\n 'other',\n 'six',\n 'how',\n 'within',\n 'noone',\n 'sometime',\n 'own',\n 'sometimes',\n 'on',\n 'they',\n 'amount',\n 'already',\n 'towards',\n '’re',\n 'its',\n 'doing',\n 'become',\n 'one',\n 'itself',\n 'themselves',\n 'while',\n 'during',\n 'whole',\n 'hereupon',\n 'for',\n 'her',\n 'serious',\n 'across',\n 'here',\n 'was',\n 'we',\n 'are',\n 'first',\n 'been',\n 'even',\n 'herein',\n 'am',\n 'otherwise',\n 'empty',\n 'though',\n 'must',\n 'seeming',\n 'another',\n 'front',\n 'move',\n 'someone',\n 'hundred',\n 'others',\n 'really',\n 'nevertheless',\n 'below',\n 'your',\n 'then',\n '‘s',\n 'ours',\n \"'re\",\n 'whereupon',\n 'me',\n 'anywhere',\n 'top',\n 'also',\n 'everyone',\n 'nobody',\n 'third',\n 'both',\n 'few',\n 'than',\n 'formerly',\n 'since',\n 'have',\n 'although',\n 'always',\n 'that',\n 'to',\n 'anyhow',\n 'our',\n 'two',\n 'enough',\n 'except',\n 'before',\n 'among',\n 'less',\n 'none',\n 'all',\n 'whereafter',\n 'onto',\n 'why',\n 'n‘t',\n 'unless',\n 'being',\n 'ourselves',\n 'out',\n 'if',\n 'almost',\n 'may',\n 'side',\n 'there',\n 'as',\n 'quite',\n 'five',\n 'between',\n 'perhaps',\n '’ll',\n 'further',\n 'various',\n 'same',\n 'my',\n '‘m',\n 'eight',\n 'regarding',\n '‘d',\n 'became',\n 'whither',\n 'namely',\n '‘re',\n 'much',\n 'off',\n 'rather',\n 'latterly',\n 'thereafter',\n '’s',\n 'whoever',\n 'has',\n 'last',\n 'mine',\n 'twelve',\n 'can',\n 'fifteen',\n 'seemed',\n 'anyway',\n 'but',\n 'make',\n 'becoming',\n 'well',\n 'with',\n 'because',\n '’ve',\n 'now',\n 'using',\n 'in',\n 'thus',\n 'amongst',\n 'call',\n 'n’t',\n 'sixty',\n 'toward',\n 'together',\n 'by',\n 'whether',\n 'take',\n 'somewhere',\n 'yourselves']"
     },
     "execution_count": 29,
     "metadata": {},
     "output_type": "execute_result"
    }
   ],
   "source": [
    "stopwords"
   ],
   "metadata": {
    "collapsed": false,
    "ExecuteTime": {
     "end_time": "2024-09-10T20:14:13.748180500Z",
     "start_time": "2024-09-10T20:14:13.668080Z"
    }
   },
   "id": "1745d98975a7784d"
  },
  {
   "cell_type": "code",
   "execution_count": 28,
   "outputs": [],
   "source": [
    "# creating function for data cleaning"
   ],
   "metadata": {
    "collapsed": false,
    "ExecuteTime": {
     "end_time": "2024-09-10T20:13:33.863946Z",
     "start_time": "2024-09-10T20:13:33.758708200Z"
    }
   },
   "id": "da8ff768428b3b65"
  },
  {
   "cell_type": "code",
   "execution_count": 32,
   "outputs": [],
   "source": [
    "import spacy\n",
    "nlp = spacy.load('en_core_web_sm')\n",
    "\n",
    "def text_data_cleaning(sentence):\n",
    "    doc = nlp(sentence)\n",
    "    tokens = []\n",
    "    \n",
    "    for token in doc:\n",
    "        if token.lemma_ != \"-PRON-\":\n",
    "            temp = token.lemma_.lower().strip()\n",
    "        else:\n",
    "            temp = token.lower_\n",
    "        tokens.append(temp)\n",
    "    \n",
    "    cleaned_tokens = []\n",
    "    for token in tokens:\n",
    "        if token not in stopwords and token not in punct:\n",
    "            cleaned_tokens.append(token)\n",
    "    \n",
    "    return cleaned_tokens"
   ],
   "metadata": {
    "collapsed": false,
    "ExecuteTime": {
     "end_time": "2024-09-10T20:22:44.855948900Z",
     "start_time": "2024-09-10T20:22:43.527752500Z"
    }
   },
   "id": "10f4725c0da2b852"
  },
  {
   "cell_type": "code",
   "execution_count": 33,
   "outputs": [],
   "source": [
    "# if root form of that word is not pronoun then it is going to convert that into lower form and if that word is a proper noun, then we are directly taking lower form, because there is no lemma."
   ],
   "metadata": {
    "collapsed": false,
    "ExecuteTime": {
     "end_time": "2024-09-10T20:23:49.089936700Z",
     "start_time": "2024-09-10T20:23:48.945757300Z"
    }
   },
   "id": "fdcf88ed5da133c"
  },
  {
   "cell_type": "code",
   "execution_count": 34,
   "outputs": [
    {
     "data": {
      "text/plain": "['hello', 'beautiful', 'day', 'outside']"
     },
     "execution_count": 34,
     "metadata": {},
     "output_type": "execute_result"
    }
   ],
   "source": [
    "text_data_cleaning(\"Hello all, It's a beautiful day outside there!\")"
   ],
   "metadata": {
    "collapsed": false,
    "ExecuteTime": {
     "end_time": "2024-09-10T20:24:33.278414Z",
     "start_time": "2024-09-10T20:24:33.081200700Z"
    }
   },
   "id": "d9c1aba4cc894121"
  },
  {
   "cell_type": "code",
   "execution_count": 35,
   "outputs": [],
   "source": [
    "# Vectorization Feature Engineering (TF-IDF)"
   ],
   "metadata": {
    "collapsed": false,
    "ExecuteTime": {
     "end_time": "2024-09-10T20:27:43.379757300Z",
     "start_time": "2024-09-10T20:27:43.237090500Z"
    }
   },
   "id": "8b6b1ed215b230dc"
  },
  {
   "cell_type": "code",
   "execution_count": 36,
   "outputs": [],
   "source": [
    "from sklearn.svm import LinearSVC\n",
    "from sklearn.feature_extraction.text import TfidfVectorizer\n",
    "from sklearn.pipeline import Pipeline"
   ],
   "metadata": {
    "collapsed": false,
    "ExecuteTime": {
     "end_time": "2024-09-10T20:28:18.477907300Z",
     "start_time": "2024-09-10T20:28:15.617392100Z"
    }
   },
   "id": "4e2c41dc47075427"
  },
  {
   "cell_type": "code",
   "execution_count": 37,
   "outputs": [],
   "source": [
    "tfidf = TfidfVectorizer(tokenizer=text_data_cleaning)\n",
    "# tokenizer=text_data_cleaning, tokenization will be done according to this function"
   ],
   "metadata": {
    "collapsed": false,
    "ExecuteTime": {
     "end_time": "2024-09-10T20:30:48.039044700Z",
     "start_time": "2024-09-10T20:30:47.952751100Z"
    }
   },
   "id": "9eaee54d594a8b36"
  },
  {
   "cell_type": "code",
   "execution_count": 38,
   "outputs": [],
   "source": [
    "classifier = LinearSVC()"
   ],
   "metadata": {
    "collapsed": false,
    "ExecuteTime": {
     "end_time": "2024-09-10T20:30:59.733531500Z",
     "start_time": "2024-09-10T20:30:59.553831900Z"
    }
   },
   "id": "d8777d8711fbfbaf"
  },
  {
   "cell_type": "code",
   "execution_count": 39,
   "outputs": [],
   "source": [
    "# Train the Model"
   ],
   "metadata": {
    "collapsed": false,
    "ExecuteTime": {
     "end_time": "2024-09-10T20:34:06.799219400Z",
     "start_time": "2024-09-10T20:34:06.697626600Z"
    }
   },
   "id": "baf9ba9b07b0e9b7"
  },
  {
   "cell_type": "code",
   "execution_count": 40,
   "outputs": [],
   "source": [
    "from sklearn.model_selection import train_test_split\n",
    "X_train,X_test,y_train,y_test = train_test_split(X,y,test_size=0.2,random_state=0)"
   ],
   "metadata": {
    "collapsed": false,
    "ExecuteTime": {
     "end_time": "2024-09-10T20:34:44.529524500Z",
     "start_time": "2024-09-10T20:34:44.345933200Z"
    }
   },
   "id": "631c175c851813b9"
  },
  {
   "cell_type": "code",
   "execution_count": 41,
   "outputs": [
    {
     "data": {
      "text/plain": "((2198,), (550,))"
     },
     "execution_count": 41,
     "metadata": {},
     "output_type": "execute_result"
    }
   ],
   "source": [
    "X_train.shape,X_test.shape"
   ],
   "metadata": {
    "collapsed": false,
    "ExecuteTime": {
     "end_time": "2024-09-10T20:34:54.543325400Z",
     "start_time": "2024-09-10T20:34:54.403548900Z"
    }
   },
   "id": "952dc8e8233c40ea"
  },
  {
   "cell_type": "code",
   "execution_count": 42,
   "outputs": [
    {
     "data": {
      "text/plain": "2572    An Italian reviewer called this \"a small, grea...\n526                          And it was way to expensive.\n1509    As an earlier review noted, plug in this charg...\n144     Nice blanket of moz over top but i feel like t...\n2483    The film gives meaning to the phrase, \"Never i...\nName: Review, dtype: object"
     },
     "execution_count": 42,
     "metadata": {},
     "output_type": "execute_result"
    }
   ],
   "source": [
    "X_train.head()"
   ],
   "metadata": {
    "collapsed": false,
    "ExecuteTime": {
     "end_time": "2024-09-10T20:35:01.982291500Z",
     "start_time": "2024-09-10T20:35:01.862723200Z"
    }
   },
   "id": "fb1869e3b89e8066"
  },
  {
   "cell_type": "code",
   "execution_count": 43,
   "outputs": [],
   "source": [
    "clf = Pipeline([('tfidf',tfidf),('clf',classifier)])\n",
    "# it will first do vectorization and then it will do classification"
   ],
   "metadata": {
    "collapsed": false,
    "ExecuteTime": {
     "end_time": "2024-09-10T20:36:09.578341200Z",
     "start_time": "2024-09-10T20:36:09.412695600Z"
    }
   },
   "id": "4a0df4f8d222ba0d"
  },
  {
   "cell_type": "code",
   "execution_count": 44,
   "outputs": [
    {
     "data": {
      "text/plain": "Pipeline(steps=[('tfidf',\n                 TfidfVectorizer(tokenizer=<function text_data_cleaning at 0x0000018763F2ACA0>)),\n                ('clf', LinearSVC())])"
     },
     "execution_count": 44,
     "metadata": {},
     "output_type": "execute_result"
    }
   ],
   "source": [
    "clf.fit(X_train,y_train)"
   ],
   "metadata": {
    "collapsed": false,
    "ExecuteTime": {
     "end_time": "2024-09-10T20:36:54.067487800Z",
     "start_time": "2024-09-10T20:36:23.333296400Z"
    }
   },
   "id": "6f8c2c64e1b78d63"
  },
  {
   "cell_type": "code",
   "execution_count": 45,
   "outputs": [],
   "source": [
    "# in this we don't need to prepare the dataset for testing(X_test)"
   ],
   "metadata": {
    "collapsed": false,
    "ExecuteTime": {
     "end_time": "2024-09-10T20:36:56.816679700Z",
     "start_time": "2024-09-10T20:36:56.754807300Z"
    }
   },
   "id": "d3d9adaecd2e0605"
  },
  {
   "cell_type": "code",
   "execution_count": 46,
   "outputs": [],
   "source": [
    "# Predict the Test set results"
   ],
   "metadata": {
    "collapsed": false,
    "ExecuteTime": {
     "end_time": "2024-09-10T20:37:33.969495700Z",
     "start_time": "2024-09-10T20:37:33.853144700Z"
    }
   },
   "id": "ee8dadc6773ff92"
  },
  {
   "cell_type": "code",
   "execution_count": 48,
   "outputs": [],
   "source": [
    "from sklearn.metrics import accuracy_score,classification_report,confusion_matrix"
   ],
   "metadata": {
    "collapsed": false,
    "ExecuteTime": {
     "end_time": "2024-09-10T20:37:49.612566500Z",
     "start_time": "2024-09-10T20:37:49.445414100Z"
    }
   },
   "id": "e84b5d0c09df9c03"
  },
  {
   "cell_type": "code",
   "execution_count": 49,
   "outputs": [],
   "source": [
    "y_pred = clf.predict(X_test)"
   ],
   "metadata": {
    "collapsed": false,
    "ExecuteTime": {
     "end_time": "2024-09-10T20:38:11.688823100Z",
     "start_time": "2024-09-10T20:38:04.283009500Z"
    }
   },
   "id": "6299c55a83dc027b"
  },
  {
   "cell_type": "code",
   "execution_count": 50,
   "outputs": [
    {
     "data": {
      "text/plain": "array([[201,  78],\n       [ 50, 221]], dtype=int64)"
     },
     "execution_count": 50,
     "metadata": {},
     "output_type": "execute_result"
    }
   ],
   "source": [
    "confusion_matrix(y_test,y_pred)"
   ],
   "metadata": {
    "collapsed": false,
    "ExecuteTime": {
     "end_time": "2024-09-10T20:38:15.138476100Z",
     "start_time": "2024-09-10T20:38:14.742555200Z"
    }
   },
   "id": "b09f25f6fa5fa758"
  },
  {
   "cell_type": "code",
   "execution_count": 51,
   "outputs": [
    {
     "name": "stdout",
     "output_type": "stream",
     "text": [
      "              precision    recall  f1-score   support\n",
      "\n",
      "           0       0.80      0.72      0.76       279\n",
      "           1       0.74      0.82      0.78       271\n",
      "\n",
      "    accuracy                           0.77       550\n",
      "   macro avg       0.77      0.77      0.77       550\n",
      "weighted avg       0.77      0.77      0.77       550\n"
     ]
    }
   ],
   "source": [
    "print(classification_report(y_test,y_pred))"
   ],
   "metadata": {
    "collapsed": false,
    "ExecuteTime": {
     "end_time": "2024-09-10T20:39:01.165408200Z",
     "start_time": "2024-09-10T20:39:01.039108200Z"
    }
   },
   "id": "29d64377c8179894"
  },
  {
   "cell_type": "code",
   "execution_count": 52,
   "outputs": [
    {
     "data": {
      "text/plain": "0.7672727272727272"
     },
     "execution_count": 52,
     "metadata": {},
     "output_type": "execute_result"
    }
   ],
   "source": [
    "accuracy_score(y_test,y_pred)"
   ],
   "metadata": {
    "collapsed": false,
    "ExecuteTime": {
     "end_time": "2024-09-10T20:39:31.704606800Z",
     "start_time": "2024-09-10T20:39:31.584782Z"
    }
   },
   "id": "8c0c5ddf4469961f"
  },
  {
   "cell_type": "code",
   "execution_count": 53,
   "outputs": [
    {
     "data": {
      "text/plain": "array([1], dtype=int64)"
     },
     "execution_count": 53,
     "metadata": {},
     "output_type": "execute_result"
    }
   ],
   "source": [
    "clf.predict([\"Wow, I am learning Natural Language Processing in fun fashion!\"])"
   ],
   "metadata": {
    "collapsed": false,
    "ExecuteTime": {
     "end_time": "2024-09-10T20:40:10.363379400Z",
     "start_time": "2024-09-10T20:40:10.201095700Z"
    }
   },
   "id": "4c4ad7cfbf9ce05c"
  },
  {
   "cell_type": "code",
   "execution_count": 54,
   "outputs": [
    {
     "data": {
      "text/plain": "array([0], dtype=int64)"
     },
     "execution_count": 54,
     "metadata": {},
     "output_type": "execute_result"
    }
   ],
   "source": [
    "clf.predict([\"It's hard to learn new things!\"])"
   ],
   "metadata": {
    "collapsed": false,
    "ExecuteTime": {
     "end_time": "2024-09-10T20:40:29.517211600Z",
     "start_time": "2024-09-10T20:40:29.423099Z"
    }
   },
   "id": "4295712418e08edf"
  },
  {
   "cell_type": "code",
   "execution_count": null,
   "outputs": [],
   "source": [],
   "metadata": {
    "collapsed": false
   },
   "id": "805e8a911fd14c5"
  }
 ],
 "metadata": {
  "kernelspec": {
   "display_name": "Python 3",
   "language": "python",
   "name": "python3"
  },
  "language_info": {
   "codemirror_mode": {
    "name": "ipython",
    "version": 2
   },
   "file_extension": ".py",
   "mimetype": "text/x-python",
   "name": "python",
   "nbconvert_exporter": "python",
   "pygments_lexer": "ipython2",
   "version": "2.7.6"
  }
 },
 "nbformat": 4,
 "nbformat_minor": 5
}
