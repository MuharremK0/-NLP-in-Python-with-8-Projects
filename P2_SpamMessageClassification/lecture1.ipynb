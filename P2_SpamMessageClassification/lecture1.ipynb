{
 "cells": [
  {
   "cell_type": "code",
   "execution_count": 1,
   "id": "initial_id",
   "metadata": {
    "collapsed": true,
    "ExecuteTime": {
     "end_time": "2024-09-10T18:05:08.171655200Z",
     "start_time": "2024-09-10T18:05:02.183313700Z"
    }
   },
   "outputs": [],
   "source": [
    "import numpy as np\n",
    "import pandas as pd\n",
    "import matplotlib.pyplot as plt"
   ]
  },
  {
   "cell_type": "code",
   "execution_count": 2,
   "outputs": [],
   "source": [
    "df = pd.read_csv('spam.tsv',sep='\\t')"
   ],
   "metadata": {
    "collapsed": false,
    "ExecuteTime": {
     "end_time": "2024-09-10T18:05:08.471864200Z",
     "start_time": "2024-09-10T18:05:08.175648Z"
    }
   },
   "id": "7d176c63e3e71b31"
  },
  {
   "cell_type": "code",
   "execution_count": 3,
   "outputs": [
    {
     "data": {
      "text/plain": "  label                                            message  length  punct\n0   ham  Go until jurong point, crazy.. Available only ...     111      9\n1   ham                      Ok lar... Joking wif u oni...      29      6\n2  spam  Free entry in 2 a wkly comp to win FA Cup fina...     155      6\n3   ham  U dun say so early hor... U c already then say...      49      6\n4   ham  Nah I don't think he goes to usf, he lives aro...      61      2",
      "text/html": "<div>\n<style scoped>\n    .dataframe tbody tr th:only-of-type {\n        vertical-align: middle;\n    }\n\n    .dataframe tbody tr th {\n        vertical-align: top;\n    }\n\n    .dataframe thead th {\n        text-align: right;\n    }\n</style>\n<table border=\"1\" class=\"dataframe\">\n  <thead>\n    <tr style=\"text-align: right;\">\n      <th></th>\n      <th>label</th>\n      <th>message</th>\n      <th>length</th>\n      <th>punct</th>\n    </tr>\n  </thead>\n  <tbody>\n    <tr>\n      <th>0</th>\n      <td>ham</td>\n      <td>Go until jurong point, crazy.. Available only ...</td>\n      <td>111</td>\n      <td>9</td>\n    </tr>\n    <tr>\n      <th>1</th>\n      <td>ham</td>\n      <td>Ok lar... Joking wif u oni...</td>\n      <td>29</td>\n      <td>6</td>\n    </tr>\n    <tr>\n      <th>2</th>\n      <td>spam</td>\n      <td>Free entry in 2 a wkly comp to win FA Cup fina...</td>\n      <td>155</td>\n      <td>6</td>\n    </tr>\n    <tr>\n      <th>3</th>\n      <td>ham</td>\n      <td>U dun say so early hor... U c already then say...</td>\n      <td>49</td>\n      <td>6</td>\n    </tr>\n    <tr>\n      <th>4</th>\n      <td>ham</td>\n      <td>Nah I don't think he goes to usf, he lives aro...</td>\n      <td>61</td>\n      <td>2</td>\n    </tr>\n  </tbody>\n</table>\n</div>"
     },
     "execution_count": 3,
     "metadata": {},
     "output_type": "execute_result"
    }
   ],
   "source": [
    "df.head()"
   ],
   "metadata": {
    "collapsed": false,
    "ExecuteTime": {
     "end_time": "2024-09-10T18:05:08.877776Z",
     "start_time": "2024-09-10T18:05:08.476838700Z"
    }
   },
   "id": "c9726fe6ffb71651"
  },
  {
   "cell_type": "code",
   "execution_count": 4,
   "outputs": [
    {
     "data": {
      "text/plain": "label      0\nmessage    0\nlength     0\npunct      0\ndtype: int64"
     },
     "execution_count": 4,
     "metadata": {},
     "output_type": "execute_result"
    }
   ],
   "source": [
    "df.isna().sum()"
   ],
   "metadata": {
    "collapsed": false,
    "ExecuteTime": {
     "end_time": "2024-09-10T18:05:09.072247400Z",
     "start_time": "2024-09-10T18:05:08.846858200Z"
    }
   },
   "id": "a8aa3e3c944ed01d"
  },
  {
   "cell_type": "code",
   "execution_count": 5,
   "outputs": [
    {
     "data": {
      "text/plain": "     label                                            message  length  punct\n5567  spam  This is the 2nd time we have tried 2 contact u...     160      8\n5568   ham               Will ü b going to esplanade fr home?      36      1\n5569   ham  Pity, * was in mood for that. So...any other s...      57      7\n5570   ham  The guy did some bitching but I acted like i'd...     125      1\n5571   ham                         Rofl. Its true to its name      26      1",
      "text/html": "<div>\n<style scoped>\n    .dataframe tbody tr th:only-of-type {\n        vertical-align: middle;\n    }\n\n    .dataframe tbody tr th {\n        vertical-align: top;\n    }\n\n    .dataframe thead th {\n        text-align: right;\n    }\n</style>\n<table border=\"1\" class=\"dataframe\">\n  <thead>\n    <tr style=\"text-align: right;\">\n      <th></th>\n      <th>label</th>\n      <th>message</th>\n      <th>length</th>\n      <th>punct</th>\n    </tr>\n  </thead>\n  <tbody>\n    <tr>\n      <th>5567</th>\n      <td>spam</td>\n      <td>This is the 2nd time we have tried 2 contact u...</td>\n      <td>160</td>\n      <td>8</td>\n    </tr>\n    <tr>\n      <th>5568</th>\n      <td>ham</td>\n      <td>Will ü b going to esplanade fr home?</td>\n      <td>36</td>\n      <td>1</td>\n    </tr>\n    <tr>\n      <th>5569</th>\n      <td>ham</td>\n      <td>Pity, * was in mood for that. So...any other s...</td>\n      <td>57</td>\n      <td>7</td>\n    </tr>\n    <tr>\n      <th>5570</th>\n      <td>ham</td>\n      <td>The guy did some bitching but I acted like i'd...</td>\n      <td>125</td>\n      <td>1</td>\n    </tr>\n    <tr>\n      <th>5571</th>\n      <td>ham</td>\n      <td>Rofl. Its true to its name</td>\n      <td>26</td>\n      <td>1</td>\n    </tr>\n  </tbody>\n</table>\n</div>"
     },
     "execution_count": 5,
     "metadata": {},
     "output_type": "execute_result"
    }
   ],
   "source": [
    "df.tail()"
   ],
   "metadata": {
    "collapsed": false,
    "ExecuteTime": {
     "end_time": "2024-09-10T18:05:09.096183500Z",
     "start_time": "2024-09-10T18:05:08.954563900Z"
    }
   },
   "id": "8884ea5e82693250"
  },
  {
   "cell_type": "code",
   "execution_count": 6,
   "outputs": [
    {
     "data": {
      "text/plain": "            length        punct\ncount  5572.000000  5572.000000\nmean     80.489950     4.177495\nstd      59.942907     4.623919\nmin       2.000000     0.000000\n25%      36.000000     2.000000\n50%      62.000000     3.000000\n75%     122.000000     6.000000\nmax     910.000000   133.000000",
      "text/html": "<div>\n<style scoped>\n    .dataframe tbody tr th:only-of-type {\n        vertical-align: middle;\n    }\n\n    .dataframe tbody tr th {\n        vertical-align: top;\n    }\n\n    .dataframe thead th {\n        text-align: right;\n    }\n</style>\n<table border=\"1\" class=\"dataframe\">\n  <thead>\n    <tr style=\"text-align: right;\">\n      <th></th>\n      <th>length</th>\n      <th>punct</th>\n    </tr>\n  </thead>\n  <tbody>\n    <tr>\n      <th>count</th>\n      <td>5572.000000</td>\n      <td>5572.000000</td>\n    </tr>\n    <tr>\n      <th>mean</th>\n      <td>80.489950</td>\n      <td>4.177495</td>\n    </tr>\n    <tr>\n      <th>std</th>\n      <td>59.942907</td>\n      <td>4.623919</td>\n    </tr>\n    <tr>\n      <th>min</th>\n      <td>2.000000</td>\n      <td>0.000000</td>\n    </tr>\n    <tr>\n      <th>25%</th>\n      <td>36.000000</td>\n      <td>2.000000</td>\n    </tr>\n    <tr>\n      <th>50%</th>\n      <td>62.000000</td>\n      <td>3.000000</td>\n    </tr>\n    <tr>\n      <th>75%</th>\n      <td>122.000000</td>\n      <td>6.000000</td>\n    </tr>\n    <tr>\n      <th>max</th>\n      <td>910.000000</td>\n      <td>133.000000</td>\n    </tr>\n  </tbody>\n</table>\n</div>"
     },
     "execution_count": 6,
     "metadata": {},
     "output_type": "execute_result"
    }
   ],
   "source": [
    "df.describe()"
   ],
   "metadata": {
    "collapsed": false,
    "ExecuteTime": {
     "end_time": "2024-09-10T18:05:09.911006500Z",
     "start_time": "2024-09-10T18:05:09.055291Z"
    }
   },
   "id": "6ab9e17d21388358"
  },
  {
   "cell_type": "code",
   "execution_count": 7,
   "outputs": [
    {
     "data": {
      "text/plain": "ham     0.865937\nspam    0.134063\nName: label, dtype: float64"
     },
     "execution_count": 7,
     "metadata": {},
     "output_type": "execute_result"
    }
   ],
   "source": [
    "df['label'].value_counts() / len(df)"
   ],
   "metadata": {
    "collapsed": false,
    "ExecuteTime": {
     "end_time": "2024-09-10T18:05:09.947906700Z",
     "start_time": "2024-09-10T18:05:09.275704300Z"
    }
   },
   "id": "2aeeb954bf755394"
  },
  {
   "cell_type": "code",
   "execution_count": 8,
   "outputs": [
    {
     "data": {
      "text/plain": "ham     4825\nspam     747\nName: label, dtype: int64"
     },
     "execution_count": 8,
     "metadata": {},
     "output_type": "execute_result"
    }
   ],
   "source": [
    "df['label'].value_counts()"
   ],
   "metadata": {
    "collapsed": false,
    "ExecuteTime": {
     "end_time": "2024-09-10T18:05:09.970856300Z",
     "start_time": "2024-09-10T18:05:09.320585400Z"
    }
   },
   "id": "8cd66462c18aea8f"
  },
  {
   "cell_type": "code",
   "execution_count": 9,
   "outputs": [],
   "source": [
    "ham = df[df['label'] == 'ham']\n",
    "spam = df[df['label'] == 'spam']"
   ],
   "metadata": {
    "collapsed": false,
    "ExecuteTime": {
     "end_time": "2024-09-10T18:05:10.026696Z",
     "start_time": "2024-09-10T18:05:09.346514500Z"
    }
   },
   "id": "8341b1fd885cf0e9"
  },
  {
   "cell_type": "code",
   "execution_count": 10,
   "outputs": [
    {
     "data": {
      "text/plain": "((4825, 4), (747, 4))"
     },
     "execution_count": 10,
     "metadata": {},
     "output_type": "execute_result"
    }
   ],
   "source": [
    "ham.shape,spam.shape"
   ],
   "metadata": {
    "collapsed": false,
    "ExecuteTime": {
     "end_time": "2024-09-10T18:05:10.032688700Z",
     "start_time": "2024-09-10T18:05:09.404360100Z"
    }
   },
   "id": "531d76cbc3ca2c9e"
  },
  {
   "cell_type": "code",
   "execution_count": 11,
   "outputs": [],
   "source": [
    "ham = ham.sample(spam.shape[0])"
   ],
   "metadata": {
    "collapsed": false,
    "ExecuteTime": {
     "end_time": "2024-09-10T18:05:10.036668600Z",
     "start_time": "2024-09-10T18:05:09.477176100Z"
    }
   },
   "id": "3a02c62143379c4f"
  },
  {
   "cell_type": "code",
   "execution_count": 12,
   "outputs": [
    {
     "data": {
      "text/plain": "((747, 4), (747, 4))"
     },
     "execution_count": 12,
     "metadata": {},
     "output_type": "execute_result"
    }
   ],
   "source": [
    "ham.shape,spam.shape"
   ],
   "metadata": {
    "collapsed": false,
    "ExecuteTime": {
     "end_time": "2024-09-10T18:05:10.175309300Z",
     "start_time": "2024-09-10T18:05:09.510076600Z"
    }
   },
   "id": "448e54ed420389d0"
  },
  {
   "cell_type": "code",
   "execution_count": 13,
   "outputs": [
    {
     "name": "stderr",
     "output_type": "stream",
     "text": [
      "C:\\Users\\PC\\AppData\\Local\\Temp\\ipykernel_2392\\98288511.py:1: FutureWarning: The frame.append method is deprecated and will be removed from pandas in a future version. Use pandas.concat instead.\n",
      "  data = ham.append(spam,ignore_index=True)\n"
     ]
    }
   ],
   "source": [
    "data = ham.append(spam,ignore_index=True)"
   ],
   "metadata": {
    "collapsed": false,
    "ExecuteTime": {
     "end_time": "2024-09-10T18:05:10.757740200Z",
     "start_time": "2024-09-10T18:05:09.564930Z"
    }
   },
   "id": "517a9db107ca9bd7"
  },
  {
   "cell_type": "code",
   "execution_count": 14,
   "outputs": [
    {
     "data": {
      "text/plain": "(1494, 4)"
     },
     "execution_count": 14,
     "metadata": {},
     "output_type": "execute_result"
    }
   ],
   "source": [
    "data.shape"
   ],
   "metadata": {
    "collapsed": false,
    "ExecuteTime": {
     "end_time": "2024-09-10T18:05:10.853498400Z",
     "start_time": "2024-09-10T18:05:09.652696100Z"
    }
   },
   "id": "979d0581d8fae5aa"
  },
  {
   "cell_type": "code",
   "execution_count": 15,
   "outputs": [
    {
     "data": {
      "text/plain": "ham     747\nspam    747\nName: label, dtype: int64"
     },
     "execution_count": 15,
     "metadata": {},
     "output_type": "execute_result"
    }
   ],
   "source": [
    "data['label'].value_counts()"
   ],
   "metadata": {
    "collapsed": false,
    "ExecuteTime": {
     "end_time": "2024-09-10T18:05:10.945238900Z",
     "start_time": "2024-09-10T18:05:09.718519200Z"
    }
   },
   "id": "6eb68cbb87f79098"
  },
  {
   "cell_type": "code",
   "execution_count": 16,
   "outputs": [
    {
     "data": {
      "text/plain": "  label                                            message  length  punct\n0   ham                         I'll meet you in the lobby      26      1\n1   ham  I'm reading the text i just sent you. Its mean...      86      3\n2   ham  The gas station is like a block away from my h...     132      2\n3   ham  Yes :)it completely in out of form:)clark also...      59      5\n4   ham  I thk 50 shd be ok he said plus minus 10.. Did...      84      3",
      "text/html": "<div>\n<style scoped>\n    .dataframe tbody tr th:only-of-type {\n        vertical-align: middle;\n    }\n\n    .dataframe tbody tr th {\n        vertical-align: top;\n    }\n\n    .dataframe thead th {\n        text-align: right;\n    }\n</style>\n<table border=\"1\" class=\"dataframe\">\n  <thead>\n    <tr style=\"text-align: right;\">\n      <th></th>\n      <th>label</th>\n      <th>message</th>\n      <th>length</th>\n      <th>punct</th>\n    </tr>\n  </thead>\n  <tbody>\n    <tr>\n      <th>0</th>\n      <td>ham</td>\n      <td>I'll meet you in the lobby</td>\n      <td>26</td>\n      <td>1</td>\n    </tr>\n    <tr>\n      <th>1</th>\n      <td>ham</td>\n      <td>I'm reading the text i just sent you. Its mean...</td>\n      <td>86</td>\n      <td>3</td>\n    </tr>\n    <tr>\n      <th>2</th>\n      <td>ham</td>\n      <td>The gas station is like a block away from my h...</td>\n      <td>132</td>\n      <td>2</td>\n    </tr>\n    <tr>\n      <th>3</th>\n      <td>ham</td>\n      <td>Yes :)it completely in out of form:)clark also...</td>\n      <td>59</td>\n      <td>5</td>\n    </tr>\n    <tr>\n      <th>4</th>\n      <td>ham</td>\n      <td>I thk 50 shd be ok he said plus minus 10.. Did...</td>\n      <td>84</td>\n      <td>3</td>\n    </tr>\n  </tbody>\n</table>\n</div>"
     },
     "execution_count": 16,
     "metadata": {},
     "output_type": "execute_result"
    }
   ],
   "source": [
    "data.head()"
   ],
   "metadata": {
    "collapsed": false,
    "ExecuteTime": {
     "end_time": "2024-09-10T18:05:10.955216100Z",
     "start_time": "2024-09-10T18:05:09.780355900Z"
    }
   },
   "id": "fd664c08e9160bbb"
  },
  {
   "cell_type": "code",
   "execution_count": 17,
   "outputs": [
    {
     "data": {
      "text/plain": "<Figure size 640x480 with 1 Axes>",
      "image/png": "[encoded data removed]"
     },
     "metadata": {},
     "output_type": "display_data"
    }
   ],
   "source": [
    "plt.hist(data[data['label']=='ham']['length'],bins=100,alpha=0.7)\n",
    "plt.hist(data[data['label']=='spam']['length'],bins=100,alpha=0.7)\n",
    "plt.show()"
   ],
   "metadata": {
    "collapsed": false,
    "ExecuteTime": {
     "end_time": "2024-09-10T18:05:13.152904900Z",
     "start_time": "2024-09-10T18:05:09.827236700Z"
    }
   },
   "id": "e53dc7bc7f9ad841"
  },
  {
   "cell_type": "code",
   "execution_count": 18,
   "outputs": [
    {
     "data": {
      "text/plain": "<Figure size 640x480 with 1 Axes>",
      "image/png": "[encoded data removed]"
     },
     "metadata": {},
     "output_type": "display_data"
    }
   ],
   "source": [
    "plt.hist(data[data['label']=='ham']['punct'],bins=100,alpha=0.7)\n",
    "plt.hist(data[data['label']=='spam']['punct'],bins=100,alpha=0.7)\n",
    "plt.show()"
   ],
   "metadata": {
    "collapsed": false,
    "ExecuteTime": {
     "end_time": "2024-09-10T18:05:15.201438Z",
     "start_time": "2024-09-10T18:05:12.603373500Z"
    }
   },
   "id": "1d6a8e8b5e07c3c1"
  },
  {
   "cell_type": "code",
   "execution_count": 19,
   "outputs": [],
   "source": [
    "# Building the Model"
   ],
   "metadata": {
    "collapsed": false,
    "ExecuteTime": {
     "end_time": "2024-09-10T18:05:15.381950700Z",
     "start_time": "2024-09-10T18:05:15.169511400Z"
    }
   },
   "id": "450d2815ea0b1876"
  },
  {
   "cell_type": "code",
   "execution_count": 20,
   "outputs": [
    {
     "data": {
      "text/plain": "     label                                            message  length  punct\n0      ham                         I'll meet you in the lobby      26      1\n1      ham  I'm reading the text i just sent you. Its mean...      86      3\n2      ham  The gas station is like a block away from my h...     132      2\n3      ham  Yes :)it completely in out of form:)clark also...      59      5\n4      ham  I thk 50 shd be ok he said plus minus 10.. Did...      84      3\n...    ...                                                ...     ...    ...\n1489  spam  Want explicit SEX in 30 secs? Ring 02073162414...      90      3\n1490  spam  ASKED 3MOBILE IF 0870 CHATLINES INCLU IN FREE ...     158      5\n1491  spam  Had your contract mobile 11 Mnths? Latest Moto...     160      8\n1492  spam  REMINDER FROM O2: To get 2.50 pounds free call...     147      3\n1493  spam  This is the 2nd time we have tried 2 contact u...     160      8\n\n[1494 rows x 4 columns]",
      "text/html": "<div>\n<style scoped>\n    .dataframe tbody tr th:only-of-type {\n        vertical-align: middle;\n    }\n\n    .dataframe tbody tr th {\n        vertical-align: top;\n    }\n\n    .dataframe thead th {\n        text-align: right;\n    }\n</style>\n<table border=\"1\" class=\"dataframe\">\n  <thead>\n    <tr style=\"text-align: right;\">\n      <th></th>\n      <th>label</th>\n      <th>message</th>\n      <th>length</th>\n      <th>punct</th>\n    </tr>\n  </thead>\n  <tbody>\n    <tr>\n      <th>0</th>\n      <td>ham</td>\n      <td>I'll meet you in the lobby</td>\n      <td>26</td>\n      <td>1</td>\n    </tr>\n    <tr>\n      <th>1</th>\n      <td>ham</td>\n      <td>I'm reading the text i just sent you. Its mean...</td>\n      <td>86</td>\n      <td>3</td>\n    </tr>\n    <tr>\n      <th>2</th>\n      <td>ham</td>\n      <td>The gas station is like a block away from my h...</td>\n      <td>132</td>\n      <td>2</td>\n    </tr>\n    <tr>\n      <th>3</th>\n      <td>ham</td>\n      <td>Yes :)it completely in out of form:)clark also...</td>\n      <td>59</td>\n      <td>5</td>\n    </tr>\n    <tr>\n      <th>4</th>\n      <td>ham</td>\n      <td>I thk 50 shd be ok he said plus minus 10.. Did...</td>\n      <td>84</td>\n      <td>3</td>\n    </tr>\n    <tr>\n      <th>...</th>\n      <td>...</td>\n      <td>...</td>\n      <td>...</td>\n      <td>...</td>\n    </tr>\n    <tr>\n      <th>1489</th>\n      <td>spam</td>\n      <td>Want explicit SEX in 30 secs? Ring 02073162414...</td>\n      <td>90</td>\n      <td>3</td>\n    </tr>\n    <tr>\n      <th>1490</th>\n      <td>spam</td>\n      <td>ASKED 3MOBILE IF 0870 CHATLINES INCLU IN FREE ...</td>\n      <td>158</td>\n      <td>5</td>\n    </tr>\n    <tr>\n      <th>1491</th>\n      <td>spam</td>\n      <td>Had your contract mobile 11 Mnths? Latest Moto...</td>\n      <td>160</td>\n      <td>8</td>\n    </tr>\n    <tr>\n      <th>1492</th>\n      <td>spam</td>\n      <td>REMINDER FROM O2: To get 2.50 pounds free call...</td>\n      <td>147</td>\n      <td>3</td>\n    </tr>\n    <tr>\n      <th>1493</th>\n      <td>spam</td>\n      <td>This is the 2nd time we have tried 2 contact u...</td>\n      <td>160</td>\n      <td>8</td>\n    </tr>\n  </tbody>\n</table>\n<p>1494 rows × 4 columns</p>\n</div>"
     },
     "execution_count": 20,
     "metadata": {},
     "output_type": "execute_result"
    }
   ],
   "source": [
    "data"
   ],
   "metadata": {
    "collapsed": false,
    "ExecuteTime": {
     "end_time": "2024-09-10T18:05:15.503618700Z",
     "start_time": "2024-09-10T18:05:15.196450900Z"
    }
   },
   "id": "fc95cce31db23733"
  },
  {
   "cell_type": "code",
   "execution_count": 21,
   "outputs": [],
   "source": [
    "from sklearn.model_selection import train_test_split"
   ],
   "metadata": {
    "collapsed": false,
    "ExecuteTime": {
     "end_time": "2024-09-10T18:05:20.932640700Z",
     "start_time": "2024-09-10T18:05:15.256278500Z"
    }
   },
   "id": "10579382b4112a74"
  },
  {
   "cell_type": "code",
   "execution_count": 22,
   "outputs": [],
   "source": [
    "X_train,X_test,y_train,y_test = train_test_split(data['message'],data['label'],test_size=0.3,random_state=0,shuffle=True)"
   ],
   "metadata": {
    "collapsed": false,
    "ExecuteTime": {
     "end_time": "2024-09-10T18:05:21.102193Z",
     "start_time": "2024-09-10T18:05:20.940618800Z"
    }
   },
   "id": "cbec772301044748"
  },
  {
   "cell_type": "code",
   "execution_count": 23,
   "outputs": [
    {
     "data": {
      "text/plain": "(1045,)"
     },
     "execution_count": 23,
     "metadata": {},
     "output_type": "execute_result"
    }
   ],
   "source": [
    "X_train.shape"
   ],
   "metadata": {
    "collapsed": false,
    "ExecuteTime": {
     "end_time": "2024-09-10T18:05:21.162026700Z",
     "start_time": "2024-09-10T18:05:20.971537500Z"
    }
   },
   "id": "1ebbdd7130807c34"
  },
  {
   "cell_type": "code",
   "execution_count": 24,
   "outputs": [
    {
     "data": {
      "text/plain": "(449,)"
     },
     "execution_count": 24,
     "metadata": {},
     "output_type": "execute_result"
    }
   ],
   "source": [
    "X_test.shape"
   ],
   "metadata": {
    "collapsed": false,
    "ExecuteTime": {
     "end_time": "2024-09-10T18:05:21.167025600Z",
     "start_time": "2024-09-10T18:05:21.016416200Z"
    }
   },
   "id": "35c7c7e5eb23603d"
  },
  {
   "cell_type": "code",
   "execution_count": 25,
   "outputs": [],
   "source": [
    "from sklearn.feature_extraction.text import TfidfVectorizer\n",
    "from sklearn.ensemble import RandomForestClassifier"
   ],
   "metadata": {
    "collapsed": false,
    "ExecuteTime": {
     "end_time": "2024-09-10T18:05:21.784364300Z",
     "start_time": "2024-09-10T18:05:21.064288900Z"
    }
   },
   "id": "41d0f4f7eb08f609"
  },
  {
   "cell_type": "code",
   "execution_count": 26,
   "outputs": [],
   "source": [
    "from sklearn.pipeline import Pipeline"
   ],
   "metadata": {
    "collapsed": false,
    "ExecuteTime": {
     "end_time": "2024-09-10T18:05:21.879110400Z",
     "start_time": "2024-09-10T18:05:21.778387800Z"
    }
   },
   "id": "bcd6fc44daf7f666"
  },
  {
   "cell_type": "code",
   "execution_count": 28,
   "outputs": [],
   "source": [
    "classifier = Pipeline([(\"tfidf\",TfidfVectorizer()),(\"classifier\",RandomForestClassifier(n_estimators=100))])"
   ],
   "metadata": {
    "collapsed": false,
    "ExecuteTime": {
     "end_time": "2024-09-10T18:07:52.322793600Z",
     "start_time": "2024-09-10T18:07:52.286899800Z"
    }
   },
   "id": "af2e1c1969148155"
  },
  {
   "cell_type": "code",
   "execution_count": 29,
   "outputs": [
    {
     "data": {
      "text/plain": "Pipeline(steps=[('tfidf', TfidfVectorizer()),\n                ('classifier', RandomForestClassifier())])"
     },
     "execution_count": 29,
     "metadata": {},
     "output_type": "execute_result"
    }
   ],
   "source": [
    "classifier.fit(X_train,y_train)"
   ],
   "metadata": {
    "collapsed": false,
    "ExecuteTime": {
     "end_time": "2024-09-10T18:07:55.168166900Z",
     "start_time": "2024-09-10T18:07:54.073862300Z"
    }
   },
   "id": "cbbc4cb3fed188dc"
  },
  {
   "cell_type": "code",
   "execution_count": 30,
   "outputs": [],
   "source": [
    "y_pred = classifier.predict(X_test)"
   ],
   "metadata": {
    "collapsed": false,
    "ExecuteTime": {
     "end_time": "2024-09-10T18:40:37.123088400Z",
     "start_time": "2024-09-10T18:40:36.592758Z"
    }
   },
   "id": "823203af3b4162a"
  },
  {
   "cell_type": "code",
   "execution_count": 31,
   "outputs": [
    {
     "data": {
      "text/plain": "(799     spam\n 1047    spam\n 1436    spam\n 54       ham\n 793     spam\n         ... \n 824     spam\n 822     spam\n 644      ham\n 1034    spam\n 1356    spam\n Name: label, Length: 449, dtype: object,\n array(['spam', 'spam', 'spam', 'ham', 'spam', 'spam', 'ham', 'ham', 'ham',\n        'ham', 'spam', 'ham', 'ham', 'spam', 'spam', 'spam', 'spam', 'ham',\n        'spam', 'spam', 'spam', 'ham', 'spam', 'spam', 'ham', 'spam',\n        'ham', 'ham', 'spam', 'ham', 'ham', 'spam', 'spam', 'spam', 'spam',\n        'spam', 'ham', 'ham', 'ham', 'ham', 'spam', 'ham', 'spam', 'ham',\n        'ham', 'spam', 'ham', 'ham', 'spam', 'ham', 'ham', 'ham', 'ham',\n        'spam', 'spam', 'spam', 'ham', 'ham', 'spam', 'ham', 'ham', 'ham',\n        'ham', 'spam', 'spam', 'ham', 'ham', 'ham', 'spam', 'spam', 'spam',\n        'spam', 'spam', 'ham', 'ham', 'spam', 'spam', 'ham', 'ham', 'ham',\n        'spam', 'ham', 'ham', 'ham', 'ham', 'spam', 'spam', 'ham', 'spam',\n        'ham', 'ham', 'spam', 'ham', 'ham', 'spam', 'spam', 'spam', 'ham',\n        'ham', 'ham', 'spam', 'ham', 'ham', 'spam', 'ham', 'ham', 'ham',\n        'ham', 'spam', 'spam', 'spam', 'ham', 'ham', 'ham', 'ham', 'spam',\n        'spam', 'ham', 'spam', 'ham', 'ham', 'ham', 'ham', 'ham', 'ham',\n        'ham', 'ham', 'ham', 'ham', 'spam', 'ham', 'spam', 'spam', 'ham',\n        'spam', 'spam', 'spam', 'spam', 'spam', 'spam', 'ham', 'ham',\n        'ham', 'ham', 'ham', 'spam', 'spam', 'spam', 'ham', 'spam', 'ham',\n        'spam', 'ham', 'spam', 'ham', 'ham', 'spam', 'ham', 'ham', 'ham',\n        'ham', 'ham', 'ham', 'spam', 'spam', 'ham', 'ham', 'ham', 'ham',\n        'ham', 'ham', 'spam', 'spam', 'ham', 'spam', 'ham', 'spam', 'ham',\n        'ham', 'ham', 'spam', 'ham', 'spam', 'spam', 'spam', 'spam',\n        'spam', 'ham', 'ham', 'ham', 'ham', 'ham', 'ham', 'ham', 'ham',\n        'spam', 'ham', 'spam', 'spam', 'spam', 'ham', 'spam', 'ham', 'ham',\n        'spam', 'ham', 'spam', 'spam', 'spam', 'spam', 'ham', 'ham', 'ham',\n        'spam', 'ham', 'ham', 'ham', 'spam', 'spam', 'spam', 'ham', 'ham',\n        'spam', 'spam', 'ham', 'ham', 'spam', 'ham', 'spam', 'spam', 'ham',\n        'ham', 'ham', 'ham', 'spam', 'spam', 'spam', 'spam', 'ham', 'spam',\n        'spam', 'spam', 'ham', 'ham', 'spam', 'spam', 'ham', 'ham', 'ham',\n        'spam', 'spam', 'ham', 'ham', 'ham', 'ham', 'spam', 'spam', 'ham',\n        'ham', 'spam', 'ham', 'spam', 'spam', 'ham', 'spam', 'ham', 'ham',\n        'spam', 'ham', 'spam', 'ham', 'ham', 'spam', 'ham', 'spam', 'spam',\n        'spam', 'ham', 'spam', 'ham', 'spam', 'spam', 'ham', 'spam', 'ham',\n        'spam', 'spam', 'ham', 'spam', 'spam', 'spam', 'ham', 'spam',\n        'spam', 'ham', 'ham', 'spam', 'ham', 'ham', 'ham', 'spam', 'spam',\n        'spam', 'ham', 'ham', 'ham', 'ham', 'ham', 'spam', 'spam', 'ham',\n        'ham', 'spam', 'spam', 'spam', 'spam', 'ham', 'spam', 'spam',\n        'spam', 'ham', 'ham', 'ham', 'ham', 'spam', 'ham', 'ham', 'spam',\n        'spam', 'ham', 'ham', 'ham', 'spam', 'ham', 'ham', 'ham', 'spam',\n        'ham', 'spam', 'ham', 'spam', 'ham', 'spam', 'spam', 'spam', 'ham',\n        'ham', 'spam', 'spam', 'ham', 'ham', 'spam', 'spam', 'ham', 'ham',\n        'ham', 'ham', 'spam', 'ham', 'ham', 'ham', 'spam', 'ham', 'ham',\n        'spam', 'spam', 'spam', 'ham', 'ham', 'ham', 'spam', 'ham', 'ham',\n        'spam', 'ham', 'ham', 'ham', 'spam', 'ham', 'ham', 'ham', 'ham',\n        'spam', 'spam', 'ham', 'spam', 'spam', 'spam', 'ham', 'ham',\n        'spam', 'ham', 'ham', 'spam', 'ham', 'ham', 'ham', 'ham', 'spam',\n        'ham', 'ham', 'spam', 'ham', 'ham', 'spam', 'ham', 'ham', 'spam',\n        'spam', 'ham', 'ham', 'spam', 'spam', 'spam', 'ham', 'spam',\n        'spam', 'spam', 'ham', 'ham', 'ham', 'spam', 'spam', 'ham', 'spam',\n        'ham', 'ham', 'ham', 'ham', 'spam', 'ham', 'ham', 'spam', 'ham',\n        'spam', 'ham', 'ham', 'spam', 'ham', 'spam', 'spam', 'spam', 'ham',\n        'spam', 'ham', 'spam', 'ham', 'spam', 'spam'], dtype=object))"
     },
     "execution_count": 31,
     "metadata": {},
     "output_type": "execute_result"
    }
   ],
   "source": [
    "y_test,y_pred"
   ],
   "metadata": {
    "collapsed": false,
    "ExecuteTime": {
     "end_time": "2024-09-10T18:40:44.982341100Z",
     "start_time": "2024-09-10T18:40:44.837222400Z"
    }
   },
   "id": "4ac39c2d0d4a2c1c"
  },
  {
   "cell_type": "code",
   "execution_count": 32,
   "outputs": [],
   "source": [
    "from sklearn.metrics import classification_report,accuracy_score,confusion_matrix"
   ],
   "metadata": {
    "collapsed": false,
    "ExecuteTime": {
     "end_time": "2024-09-10T18:41:49.310092Z",
     "start_time": "2024-09-10T18:41:49.298574800Z"
    }
   },
   "id": "28b68cc2273c0ec8"
  },
  {
   "cell_type": "code",
   "execution_count": 33,
   "outputs": [
    {
     "data": {
      "text/plain": "0.9576837416481069"
     },
     "execution_count": 33,
     "metadata": {},
     "output_type": "execute_result"
    }
   ],
   "source": [
    "accuracy_score(y_test,y_pred)"
   ],
   "metadata": {
    "collapsed": false,
    "ExecuteTime": {
     "end_time": "2024-09-10T18:42:06.972296100Z",
     "start_time": "2024-09-10T18:42:06.770675700Z"
    }
   },
   "id": "c5b91717cf974bcf"
  },
  {
   "cell_type": "code",
   "execution_count": 34,
   "outputs": [
    {
     "data": {
      "text/plain": "430.0"
     },
     "execution_count": 34,
     "metadata": {},
     "output_type": "execute_result"
    }
   ],
   "source": [
    "0.9576837416481069 * 449"
   ],
   "metadata": {
    "collapsed": false,
    "ExecuteTime": {
     "end_time": "2024-09-10T18:42:44.194580800Z",
     "start_time": "2024-09-10T18:42:44.065393100Z"
    }
   },
   "id": "2b703bc58e4dc0bb"
  },
  {
   "cell_type": "code",
   "execution_count": 35,
   "outputs": [
    {
     "data": {
      "text/plain": "array([[227,   0],\n       [ 19, 203]], dtype=int64)"
     },
     "execution_count": 35,
     "metadata": {},
     "output_type": "execute_result"
    }
   ],
   "source": [
    "confusion_matrix(y_test,y_pred)"
   ],
   "metadata": {
    "collapsed": false,
    "ExecuteTime": {
     "end_time": "2024-09-10T18:43:07.199253800Z",
     "start_time": "2024-09-10T18:43:07.081965900Z"
    }
   },
   "id": "247bcc06d20b5ae9"
  },
  {
   "cell_type": "code",
   "execution_count": 37,
   "outputs": [
    {
     "name": "stdout",
     "output_type": "stream",
     "text": [
      "              precision    recall  f1-score   support\n",
      "\n",
      "         ham       0.92      1.00      0.96       227\n",
      "        spam       1.00      0.91      0.96       222\n",
      "\n",
      "    accuracy                           0.96       449\n",
      "   macro avg       0.96      0.96      0.96       449\n",
      "weighted avg       0.96      0.96      0.96       449\n"
     ]
    }
   ],
   "source": [
    "print(classification_report(y_test,y_pred))"
   ],
   "metadata": {
    "collapsed": false,
    "ExecuteTime": {
     "end_time": "2024-09-10T18:44:18.503344800Z",
     "start_time": "2024-09-10T18:44:18.427888Z"
    }
   },
   "id": "a879c1929d9bf1c2"
  },
  {
   "cell_type": "code",
   "execution_count": 38,
   "outputs": [],
   "source": [
    "# Building SVM"
   ],
   "metadata": {
    "collapsed": false,
    "ExecuteTime": {
     "end_time": "2024-09-10T18:44:58.404903300Z",
     "start_time": "2024-09-10T18:44:58.341113400Z"
    }
   },
   "id": "679b833df29c646e"
  },
  {
   "cell_type": "code",
   "execution_count": 39,
   "outputs": [],
   "source": [
    "from sklearn.svm import SVC"
   ],
   "metadata": {
    "collapsed": false,
    "ExecuteTime": {
     "end_time": "2024-09-10T18:45:28.077089100Z",
     "start_time": "2024-09-10T18:45:27.952430100Z"
    }
   },
   "id": "2896572cc83f7719"
  },
  {
   "cell_type": "code",
   "execution_count": 40,
   "outputs": [],
   "source": [
    "svm = Pipeline([(\"tfidf\",TfidfVectorizer()),(\"classifier\",SVC(C=100,gamma='auto'))])"
   ],
   "metadata": {
    "collapsed": false,
    "ExecuteTime": {
     "end_time": "2024-09-10T18:46:53.255380400Z",
     "start_time": "2024-09-10T18:46:53.091631800Z"
    }
   },
   "id": "45b7cfb5337ad719"
  },
  {
   "cell_type": "code",
   "execution_count": 41,
   "outputs": [
    {
     "data": {
      "text/plain": "Pipeline(steps=[('tfidf', TfidfVectorizer()),\n                ('classifier', SVC(C=100, gamma='auto'))])"
     },
     "execution_count": 41,
     "metadata": {},
     "output_type": "execute_result"
    }
   ],
   "source": [
    "svm.fit(X_train,y_train)"
   ],
   "metadata": {
    "collapsed": false,
    "ExecuteTime": {
     "end_time": "2024-09-10T18:47:06.492341Z",
     "start_time": "2024-09-10T18:47:06.060345200Z"
    }
   },
   "id": "6950af311523ef53"
  },
  {
   "cell_type": "code",
   "execution_count": 42,
   "outputs": [],
   "source": [
    "y_pred = svm.predict(X_test)"
   ],
   "metadata": {
    "collapsed": false,
    "ExecuteTime": {
     "end_time": "2024-09-10T18:47:35.190092600Z",
     "start_time": "2024-09-10T18:47:35.063829400Z"
    }
   },
   "id": "74c7546a135506e4"
  },
  {
   "cell_type": "code",
   "execution_count": 43,
   "outputs": [
    {
     "data": {
      "text/plain": "0.955456570155902"
     },
     "execution_count": 43,
     "metadata": {},
     "output_type": "execute_result"
    }
   ],
   "source": [
    "accuracy_score(y_test,y_pred)"
   ],
   "metadata": {
    "collapsed": false,
    "ExecuteTime": {
     "end_time": "2024-09-10T18:47:48.408896800Z",
     "start_time": "2024-09-10T18:47:48.213498200Z"
    }
   },
   "id": "3cd84465de0d5a49"
  },
  {
   "cell_type": "code",
   "execution_count": 44,
   "outputs": [
    {
     "data": {
      "text/plain": "array([[226,   1],\n       [ 19, 203]], dtype=int64)"
     },
     "execution_count": 44,
     "metadata": {},
     "output_type": "execute_result"
    }
   ],
   "source": [
    "confusion_matrix(y_test,y_pred)"
   ],
   "metadata": {
    "collapsed": false,
    "ExecuteTime": {
     "end_time": "2024-09-10T18:48:03.720028600Z",
     "start_time": "2024-09-10T18:48:03.601768600Z"
    }
   },
   "id": "8beb053e9b9e22db"
  },
  {
   "cell_type": "code",
   "execution_count": 45,
   "outputs": [
    {
     "name": "stdout",
     "output_type": "stream",
     "text": [
      "              precision    recall  f1-score   support\n",
      "\n",
      "         ham       0.92      1.00      0.96       227\n",
      "        spam       1.00      0.91      0.95       222\n",
      "\n",
      "    accuracy                           0.96       449\n",
      "   macro avg       0.96      0.96      0.96       449\n",
      "weighted avg       0.96      0.96      0.96       449\n"
     ]
    }
   ],
   "source": [
    "print(classification_report(y_test,y_pred))"
   ],
   "metadata": {
    "collapsed": false,
    "ExecuteTime": {
     "end_time": "2024-09-10T18:48:24.798127100Z",
     "start_time": "2024-09-10T18:48:24.673864Z"
    }
   },
   "id": "65c76d54a3d15d76"
  },
  {
   "cell_type": "code",
   "execution_count": 46,
   "outputs": [],
   "source": [
    "# Kendi cümlelerimizle test etme zamanı"
   ],
   "metadata": {
    "collapsed": false,
    "ExecuteTime": {
     "end_time": "2024-09-10T18:49:20.672062200Z",
     "start_time": "2024-09-10T18:49:20.521840600Z"
    }
   },
   "id": "b6c64db4ab2e007"
  },
  {
   "cell_type": "code",
   "execution_count": 47,
   "outputs": [],
   "source": [
    "test1 = ['Hello, You are learning natural Language Processing']\n",
    "test2 = ['Hope you are doing good and learning new things !']\n",
    "test3 = ['Congratulations, You won a lottery ticket worth $1 Million ! To claim call on 446677']"
   ],
   "metadata": {
    "collapsed": false,
    "ExecuteTime": {
     "end_time": "2024-09-10T18:51:17.839096900Z",
     "start_time": "2024-09-10T18:51:17.732419100Z"
    }
   },
   "id": "328e236fdfeacd0d"
  },
  {
   "cell_type": "code",
   "execution_count": 49,
   "outputs": [
    {
     "name": "stdout",
     "output_type": "stream",
     "text": [
      "['ham']\n",
      "['ham']\n",
      "['spam']\n"
     ]
    }
   ],
   "source": [
    "print(classifier.predict(test1))\n",
    "print(classifier.predict(test2))\n",
    "print(classifier.predict(test3))"
   ],
   "metadata": {
    "collapsed": false,
    "ExecuteTime": {
     "end_time": "2024-09-10T18:52:22.702919100Z",
     "start_time": "2024-09-10T18:52:22.570823700Z"
    }
   },
   "id": "f756db3bceff7dd6"
  },
  {
   "cell_type": "code",
   "execution_count": 50,
   "outputs": [
    {
     "name": "stdout",
     "output_type": "stream",
     "text": [
      "['ham']\n",
      "['ham']\n",
      "['spam']\n"
     ]
    }
   ],
   "source": [
    "print(svm.predict(test1))\n",
    "print(svm.predict(test2))\n",
    "print(svm.predict(test3))"
   ],
   "metadata": {
    "collapsed": false,
    "ExecuteTime": {
     "end_time": "2024-09-10T18:52:59.613316Z",
     "start_time": "2024-09-10T18:52:59.527005600Z"
    }
   },
   "id": "1a50b0ecfc8eb6fb"
  },
  {
   "cell_type": "code",
   "execution_count": null,
   "outputs": [],
   "source": [],
   "metadata": {
    "collapsed": false
   },
   "id": "9c5678d0d4dc7e9a"
  }
 ],
 "metadata": {
  "kernelspec": {
   "display_name": "Python 3",
   "language": "python",
   "name": "python3"
  },
  "language_info": {
   "codemirror_mode": {
    "name": "ipython",
    "version": 2
   },
   "file_extension": ".py",
   "mimetype": "text/x-python",
   "name": "python",
   "nbconvert_exporter": "python",
   "pygments_lexer": "ipython2",
   "version": "2.7.6"
  }
 },
 "nbformat": 4,
 "nbformat_minor": 5
}
